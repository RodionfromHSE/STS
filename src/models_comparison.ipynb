{
 "cells": [
  {
   "cell_type": "code",
   "execution_count": 77,
   "metadata": {},
   "outputs": [
    {
     "name": "stdout",
     "output_type": "stream",
     "text": [
      "The autoreload extension is already loaded. To reload it, use:\n",
      "  %reload_ext autoreload\n"
     ]
    }
   ],
   "source": [
    "%load_ext autoreload\n",
    "%autoreload 2"
   ]
  },
  {
   "cell_type": "code",
   "execution_count": 1,
   "metadata": {},
   "outputs": [
    {
     "name": "stdout",
     "output_type": "stream",
     "text": [
      "Root dir:  /Users/user010/Desktop/Programming/ML/STS\n"
     ]
    }
   ],
   "source": [
    "import os\n",
    "import sys\n",
    "\n",
    "root_dir = os.path.abspath('..')\n",
    "print(\"Root dir: \", root_dir)\n",
    "sys.path.append(root_dir)"
   ]
  },
  {
   "cell_type": "code",
   "execution_count": 2,
   "metadata": {},
   "outputs": [
    {
     "name": "stdout",
     "output_type": "stream",
     "text": [
      "{\n",
      "  \"dataset\": \"stsb_val\",\n",
      "  \"models\": [\n",
      "    \"mini_lm\",\n",
      "    \"pp_roberta\"\n",
      "  ]\n",
      "}\n"
     ]
    }
   ],
   "source": [
    "from utils.helpers import read_config, print_config\n",
    "import numpy as np\n",
    "\n",
    "glob_cfg = read_config(\"../config.yaml\")\n",
    "cfg = read_config(glob_cfg.configs.models_comparison)\n",
    "\n",
    "print_config(cfg)"
   ]
  },
  {
   "cell_type": "code",
   "execution_count": 80,
   "metadata": {},
   "outputs": [
    {
     "name": "stdout",
     "output_type": "stream",
     "text": [
      "{\n",
      "  \"root\": \"/Users/user010/Desktop/Programming/ML/STS\",\n",
      "  \"datasets\": {\n",
      "    \"stsb_train\": {\n",
      "      \"hf_params\": {\n",
      "        \"path\": \"stsb_multi_mt\",\n",
      "        \"name\": \"en\",\n",
      "        \"split\": \"train\"\n",
      "      }\n",
      "    },\n",
      "    \"stsb_val\": {\n",
      "      \"hf_params\": {\n",
      "        \"path\": \"stsb_multi_mt\",\n",
      "        \"name\": \"en\",\n",
      "        \"split\": \"test\"\n",
      "      }\n",
      "    }\n",
      "  },\n",
      "  \"models\": {\n",
      "    \"mini_lm\": {\n",
      "      \"st_params\": {\n",
      "        \"model_name_or_path\": \"paraphrase-MiniLM-L6-v2\"\n",
      "      }\n",
      "    },\n",
      "    \"pp_roberta\": {\n",
      "      \"st_params\": {\n",
      "        \"model_name_or_path\": \"sentence-transformers/paraphrase-distilroberta-base-v1\"\n",
      "      }\n",
      "    }\n",
      "  },\n",
      "  \"configs\": {\n",
      "    \"embeddings\": \"/Users/user010/Desktop/Programming/ML/STS/configs/embeddings.yaml\"\n",
      "  }\n",
      "}\n"
     ]
    }
   ],
   "source": [
    "print_config(glob_cfg)"
   ]
  },
  {
   "cell_type": "code",
   "execution_count": 81,
   "metadata": {},
   "outputs": [
    {
     "name": "stdout",
     "output_type": "stream",
     "text": [
      "Params: {'path': 'stsb_multi_mt', 'name': 'en', 'split': 'test'}\n"
     ]
    }
   ],
   "source": [
    "from datasets import load_dataset\n",
    "\n",
    "dataset_params = glob_cfg.datasets[cfg.dataset].hf_params\n",
    "print(\"Params:\", dataset_params)\n",
    "dataset = load_dataset(**dataset_params)"
   ]
  },
  {
   "cell_type": "code",
   "execution_count": 82,
   "metadata": {},
   "outputs": [
    {
     "data": {
      "text/plain": [
       "Dataset({\n",
       "    features: ['sentence1', 'sentence2', 'similarity_score'],\n",
       "    num_rows: 1379\n",
       "})"
      ]
     },
     "execution_count": 82,
     "metadata": {},
     "output_type": "execute_result"
    }
   ],
   "source": [
    "dataset"
   ]
  },
  {
   "cell_type": "code",
   "execution_count": 83,
   "metadata": {},
   "outputs": [
    {
     "name": "stdout",
     "output_type": "stream",
     "text": [
      "Params: {'model_name_or_path': 'paraphrase-MiniLM-L6-v2'}\n",
      "Params: {'model_name_or_path': 'sentence-transformers/paraphrase-distilroberta-base-v1'}\n"
     ]
    }
   ],
   "source": [
    "from sentence_transformers import SentenceTransformer, util\n",
    "\n",
    "models = []\n",
    "for model_name in cfg.models:\n",
    "    model_params = glob_cfg.models[model_name].st_params\n",
    "    print(\"Params:\", model_params)\n",
    "    model = SentenceTransformer(**model_params)\n",
    "    models.append(dict(name=model_name, model=model))"
   ]
  },
  {
   "cell_type": "code",
   "execution_count": 84,
   "metadata": {},
   "outputs": [
    {
     "name": "stdout",
     "output_type": "stream",
     "text": [
      "Model: mini_lm\n"
     ]
    },
    {
     "name": "stderr",
     "output_type": "stream",
     "text": [
      "Map: 100%|██████████| 1379/1379 [00:04<00:00, 277.81 examples/s]\n"
     ]
    },
    {
     "name": "stdout",
     "output_type": "stream",
     "text": [
      "Model: pp_roberta\n"
     ]
    },
    {
     "name": "stderr",
     "output_type": "stream",
     "text": [
      "Map: 100%|██████████| 1379/1379 [00:08<00:00, 162.73 examples/s]\n"
     ]
    },
    {
     "data": {
      "text/plain": [
       "Dataset({\n",
       "    features: ['sentence1', 'sentence2', 'similarity_score', 'emb1_mini_lm', 'emb2_mini_lm', 'emb1_pp_roberta', 'emb2_pp_roberta'],\n",
       "    num_rows: 1379\n",
       "})"
      ]
     },
     "execution_count": 84,
     "metadata": {},
     "output_type": "execute_result"
    }
   ],
   "source": [
    "# create emb1 and emb2 in dataset\n",
    "for model_info in models:\n",
    "  model_name = model_info['name']\n",
    "  model = model_info['model']\n",
    "  print(\"Model:\", model_name)\n",
    "  # pass whole dataset to model\n",
    "  dataset = dataset.map(lambda x: \n",
    "                        {f'emb1_{model_name}': model.encode(x['sentence1'], convert_to_tensor=True), \n",
    "                         f'emb2_{model_name}': model.encode(x['sentence2'], convert_to_tensor=True)},\n",
    "                         batched=True, batch_size=len(dataset)\n",
    "                        )\n",
    "dataset"
   ]
  },
  {
   "cell_type": "code",
   "execution_count": 85,
   "metadata": {},
   "outputs": [
    {
     "name": "stderr",
     "output_type": "stream",
     "text": [
      "Map: 100%|██████████| 1379/1379 [00:00<00:00, 19946.15 examples/s]\n"
     ]
    }
   ],
   "source": [
    "# let's normalize score\n",
    "max_score = 5\n",
    "dataset = dataset.map(lambda x: {'similarity_score': x['similarity_score']/max_score})"
   ]
  },
  {
   "cell_type": "code",
   "execution_count": 87,
   "metadata": {},
   "outputs": [
    {
     "name": "stderr",
     "output_type": "stream",
     "text": [
      "Map: 100%|██████████| 1379/1379 [00:01<00:00, 1099.79 examples/s]\n"
     ]
    }
   ],
   "source": [
    "def get_sim_score(x, model_name):\n",
    "    return util.pytorch_cos_sim(x[f'emb1_{model_name}'], x[f'emb2_{model_name}']).item()\n",
    "\n",
    "def add_sim_score_features(x):\n",
    "    new_features = {}\n",
    "    for model_info in models:\n",
    "        model_name = model_info['name']\n",
    "        sim_score = get_sim_score(x, model_name)\n",
    "        new_features[f'score_{model_name}'] = sim_score\n",
    "        new_features[f'diff_{model_name}'] = np.abs(sim_score - x['similarity_score'])\n",
    "    return new_features\n",
    "\n",
    "dataset = dataset.map(add_sim_score_features)"
   ]
  },
  {
   "cell_type": "code",
   "execution_count": 90,
   "metadata": {},
   "outputs": [
    {
     "name": "stdout",
     "output_type": "stream",
     "text": [
      "Model: mini_lm\n",
      "Average diff: 0.15014304435610004\n",
      "\n",
      "Model: pp_roberta\n",
      "Average diff: 0.16648173247389036\n",
      "\n",
      "Best model: mini_lm\n",
      "Best average diff: 0.15014304435610004\n"
     ]
    }
   ],
   "source": [
    "# average diff\n",
    "best_model_name = ''\n",
    "best_avg_diff = 1.0\n",
    "for model_info in models:\n",
    "    model_name = model_info['name']\n",
    "    avg_diff = np.mean(dataset[f'diff_{model_name}'])\n",
    "    print(\"Model:\", model_name)\n",
    "    print(\"Average diff:\", avg_diff)\n",
    "    print()\n",
    "\n",
    "    if avg_diff < best_avg_diff:\n",
    "        best_avg_diff = avg_diff\n",
    "        best_model_name = model_name\n",
    "\n",
    "print(\"Best model:\", best_model_name)\n",
    "print(\"Best average diff:\", best_avg_diff)"
   ]
  },
  {
   "cell_type": "code",
   "execution_count": 101,
   "metadata": {},
   "outputs": [
    {
     "name": "stdout",
     "output_type": "stream",
     "text": [
      "{\n",
      "  \"sentence1\": \"You may have to experiment and find what you like.\",\n",
      "  \"sentence2\": \"You have to find out what works for you.\",\n",
      "  \"similarity_score\": 1.0,\n",
      "  \"score_mini_lm\": 0.6091929078102112,\n",
      "  \"diff_mini_lm\": 0.3908070921897888\n",
      "}\n",
      "------------------------------\n",
      "\n",
      "{\n",
      "  \"sentence1\": \"In the first case, I think you don't need it.\",\n",
      "  \"sentence2\": \"So I don't think you need to put it on the cover.\",\n",
      "  \"similarity_score\": 0.20000000298023224,\n",
      "  \"score_mini_lm\": 0.5300893187522888,\n",
      "  \"diff_mini_lm\": 0.3300893157720566\n",
      "}\n",
      "------------------------------\n",
      "\n",
      "{\n",
      "  \"sentence1\": \"A man and a woman watch two dogs.\",\n",
      "  \"sentence2\": \"A man in a maroon bathing suit swings on a rope on a lake.\",\n",
      "  \"similarity_score\": 0.07999999821186066,\n",
      "  \"score_mini_lm\": -0.008783694356679916,\n",
      "  \"diff_mini_lm\": 0.08878369256854057\n",
      "}\n",
      "------------------------------\n",
      "\n"
     ]
    }
   ],
   "source": [
    "import json\n",
    "rnd = np.random.choice(len(dataset), 3)\n",
    "\n",
    "features = ['sentence1', 'sentence2', 'similarity_score', f'score_{best_model_name}', f'diff_{best_model_name}']\n",
    "\n",
    "for idx in rnd:\n",
    "    idx = int(idx)\n",
    "    sample = dataset[idx]\n",
    "    sample = {k: sample[k] for k in sample if k in features}\n",
    "    print(json.dumps(sample, indent=2))\n",
    "    print('---'*10)\n",
    "    print()"
   ]
  },
  {
   "cell_type": "markdown",
   "metadata": {},
   "source": [
    "Well, I agree more with model prediction than with ground truth score."
   ]
  }
 ],
 "metadata": {
  "kernelspec": {
   "display_name": "venv",
   "language": "python",
   "name": "python3"
  },
  "language_info": {
   "codemirror_mode": {
    "name": "ipython",
    "version": 3
   },
   "file_extension": ".py",
   "mimetype": "text/x-python",
   "name": "python",
   "nbconvert_exporter": "python",
   "pygments_lexer": "ipython3",
   "version": "3.11.4"
  },
  "orig_nbformat": 4
 },
 "nbformat": 4,
 "nbformat_minor": 2
}
