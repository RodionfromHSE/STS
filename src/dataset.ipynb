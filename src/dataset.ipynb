{
 "cells": [
  {
   "cell_type": "code",
   "execution_count": 3,
   "metadata": {},
   "outputs": [
    {
     "name": "stdout",
     "output_type": "stream",
     "text": [
      "The autoreload extension is already loaded. To reload it, use:\n",
      "  %reload_ext autoreload\n"
     ]
    }
   ],
   "source": [
    "%load_ext autoreload\n",
    "%autoreload 2"
   ]
  },
  {
   "cell_type": "markdown",
   "metadata": {},
   "source": [
    "Set-up"
   ]
  },
  {
   "cell_type": "code",
   "execution_count": 25,
   "metadata": {},
   "outputs": [
    {
     "name": "stdout",
     "output_type": "stream",
     "text": [
      "Root dir:  /Users/user010/Desktop/Programming/ML/STS\n"
     ]
    }
   ],
   "source": [
    "import os\n",
    "import sys\n",
    "\n",
    "root_dir = os.path.abspath('..')\n",
    "print(\"Root dir: \", root_dir)\n",
    "sys.path.append(root_dir)"
   ]
  },
  {
   "cell_type": "code",
   "execution_count": 40,
   "metadata": {},
   "outputs": [
    {
     "name": "stdout",
     "output_type": "stream",
     "text": [
      "{\n",
      "  \"dataset\": \"stacktraces\",\n",
      "  \"n_samples\": 25000,\n",
      "  \"test_split\": 0.2,\n",
      "  \"save_dataset\": \"stacktraces_hf\"\n",
      "}\n"
     ]
    }
   ],
   "source": [
    "from utils.helpers import read_config, print_config\n",
    "import numpy as np\n",
    "\n",
    "glob_cfg = read_config(\"../config.yaml\")\n",
    "cfg = read_config(glob_cfg.configs.dataset)\n",
    "\n",
    "print_config(cfg)"
   ]
  },
  {
   "cell_type": "markdown",
   "metadata": {},
   "source": [
    "Preprocessing"
   ]
  },
  {
   "cell_type": "code",
   "execution_count": 5,
   "metadata": {},
   "outputs": [
    {
     "name": "stdout",
     "output_type": "stream",
     "text": [
      "Dataset path: /Users/user010/Desktop/Programming/ML/STS/dataset/stacktraces.json\n"
     ]
    }
   ],
   "source": [
    "import json\n",
    "\n",
    "dataset_path = glob_cfg.datasets[cfg.dataset].path\n",
    "print(\"Dataset path:\", dataset_path)\n",
    "with open(dataset_path) as f:\n",
    "    dataset = json.load(f)"
   ]
  },
  {
   "cell_type": "code",
   "execution_count": 6,
   "metadata": {},
   "outputs": [],
   "source": [
    "dataset = dataset['data']"
   ]
  },
  {
   "cell_type": "code",
   "execution_count": 7,
   "metadata": {},
   "outputs": [
    {
     "data": {
      "text/html": [
       "<div>\n",
       "<style scoped>\n",
       "    .dataframe tbody tr th:only-of-type {\n",
       "        vertical-align: middle;\n",
       "    }\n",
       "\n",
       "    .dataframe tbody tr th {\n",
       "        vertical-align: top;\n",
       "    }\n",
       "\n",
       "    .dataframe thead th {\n",
       "        text-align: right;\n",
       "    }\n",
       "</style>\n",
       "<table border=\"1\" class=\"dataframe\">\n",
       "  <thead>\n",
       "    <tr style=\"text-align: right;\">\n",
       "      <th></th>\n",
       "      <th>0</th>\n",
       "      <th>1</th>\n",
       "      <th>2</th>\n",
       "      <th>3</th>\n",
       "    </tr>\n",
       "  </thead>\n",
       "  <tbody>\n",
       "    <tr>\n",
       "      <th>0</th>\n",
       "      <td>12</td>\n",
       "      <td>https://github.com/jiangxufeng/v2rayL/issues/13</td>\n",
       "      <td>cpython</td>\n",
       "      <td>Traceback (most recent call last):\\r  File \"v2...</td>\n",
       "    </tr>\n",
       "    <tr>\n",
       "      <th>1</th>\n",
       "      <td>28</td>\n",
       "      <td>https://github.com/jiangxufeng/v2rayL/issues/31</td>\n",
       "      <td>cpython</td>\n",
       "      <td>mackel@linux-pd0d:[~/Downloads]:Traceback (mos...</td>\n",
       "    </tr>\n",
       "    <tr>\n",
       "      <th>2</th>\n",
       "      <td>64</td>\n",
       "      <td>https://github.com/jiangxufeng/v2rayL/issues/69</td>\n",
       "      <td>cpython</td>\n",
       "      <td>root@ubuntu:V2Ray# Traceback (most recent call...</td>\n",
       "    </tr>\n",
       "  </tbody>\n",
       "</table>\n",
       "</div>"
      ],
      "text/plain": [
       "    0                                                1        2  \\\n",
       "0  12  https://github.com/jiangxufeng/v2rayL/issues/13  cpython   \n",
       "1  28  https://github.com/jiangxufeng/v2rayL/issues/31  cpython   \n",
       "2  64  https://github.com/jiangxufeng/v2rayL/issues/69  cpython   \n",
       "\n",
       "                                                   3  \n",
       "0  Traceback (most recent call last):\\r  File \"v2...  \n",
       "1  mackel@linux-pd0d:[~/Downloads]:Traceback (mos...  \n",
       "2  root@ubuntu:V2Ray# Traceback (most recent call...  "
      ]
     },
     "execution_count": 7,
     "metadata": {},
     "output_type": "execute_result"
    }
   ],
   "source": [
    "import numpy as np\n",
    "import pandas as pd\n",
    "\n",
    "df = pd.DataFrame(dataset)\n",
    "df.head(3)"
   ]
  },
  {
   "cell_type": "code",
   "execution_count": 8,
   "metadata": {},
   "outputs": [
    {
     "data": {
      "text/html": [
       "<div>\n",
       "<style scoped>\n",
       "    .dataframe tbody tr th:only-of-type {\n",
       "        vertical-align: middle;\n",
       "    }\n",
       "\n",
       "    .dataframe tbody tr th {\n",
       "        vertical-align: top;\n",
       "    }\n",
       "\n",
       "    .dataframe thead th {\n",
       "        text-align: right;\n",
       "    }\n",
       "</style>\n",
       "<table border=\"1\" class=\"dataframe\">\n",
       "  <thead>\n",
       "    <tr style=\"text-align: right;\">\n",
       "      <th></th>\n",
       "      <th>id</th>\n",
       "      <th>url</th>\n",
       "      <th>interpreter</th>\n",
       "      <th>stack_trace</th>\n",
       "    </tr>\n",
       "  </thead>\n",
       "  <tbody>\n",
       "    <tr>\n",
       "      <th>0</th>\n",
       "      <td>12</td>\n",
       "      <td>https://github.com/jiangxufeng/v2rayL/issues/13</td>\n",
       "      <td>cpython</td>\n",
       "      <td>Traceback (most recent call last):\\r  File \"v2...</td>\n",
       "    </tr>\n",
       "    <tr>\n",
       "      <th>1</th>\n",
       "      <td>28</td>\n",
       "      <td>https://github.com/jiangxufeng/v2rayL/issues/31</td>\n",
       "      <td>cpython</td>\n",
       "      <td>mackel@linux-pd0d:[~/Downloads]:Traceback (mos...</td>\n",
       "    </tr>\n",
       "    <tr>\n",
       "      <th>2</th>\n",
       "      <td>64</td>\n",
       "      <td>https://github.com/jiangxufeng/v2rayL/issues/69</td>\n",
       "      <td>cpython</td>\n",
       "      <td>root@ubuntu:V2Ray# Traceback (most recent call...</td>\n",
       "    </tr>\n",
       "  </tbody>\n",
       "</table>\n",
       "</div>"
      ],
      "text/plain": [
       "   id                                              url interpreter  \\\n",
       "0  12  https://github.com/jiangxufeng/v2rayL/issues/13     cpython   \n",
       "1  28  https://github.com/jiangxufeng/v2rayL/issues/31     cpython   \n",
       "2  64  https://github.com/jiangxufeng/v2rayL/issues/69     cpython   \n",
       "\n",
       "                                         stack_trace  \n",
       "0  Traceback (most recent call last):\\r  File \"v2...  \n",
       "1  mackel@linux-pd0d:[~/Downloads]:Traceback (mos...  \n",
       "2  root@ubuntu:V2Ray# Traceback (most recent call...  "
      ]
     },
     "execution_count": 8,
     "metadata": {},
     "output_type": "execute_result"
    }
   ],
   "source": [
    "# rename columns\n",
    "df.rename(columns={\n",
    "    0: 'id',\n",
    "    1: 'url',\n",
    "    2: 'interpreter',\n",
    "    3: 'stack_trace'\n",
    "}, inplace=True)\n",
    "df.head(3)"
   ]
  },
  {
   "cell_type": "code",
   "execution_count": 9,
   "metadata": {},
   "outputs": [],
   "source": [
    "df['stack_trace'] = df['stack_trace'].str.replace('\\r|\\t|  +|File', '\\n', regex=True)"
   ]
  },
  {
   "cell_type": "code",
   "execution_count": 10,
   "metadata": {},
   "outputs": [
    {
     "name": "stdout",
     "output_type": "stream",
     "text": [
      "Trace:\n",
      "\n",
      "22.7\n",
      "66 | Traceback (most recent call last):\n",
      "\n",
      "22.7\n",
      "66 |\n",
      "\n",
      " \"<string>\", line 1, in <module>\n",
      "\n"
     ]
    }
   ],
   "source": [
    "from utils.parser import parse_stack_trace\n",
    "rnd_idx = np.random.randint(0, len(df))\n",
    "sample = df.iloc[rnd_idx]\n",
    "trace_list, final_error = parse_stack_trace(sample.stack_trace)\n",
    "\n",
    "\n",
    "print(\"Trace:\")\n",
    "print(sample.stack_trace)"
   ]
  },
  {
   "cell_type": "code",
   "execution_count": 11,
   "metadata": {},
   "outputs": [
    {
     "name": "stdout",
     "output_type": "stream",
     "text": [
      "Final error: null\n",
      "Trace list: [\n",
      "  {\n",
      "    \"func_name\": \"<module>\",\n",
      "    \"file_name\": \"<string>\",\n",
      "    \"line_num\": 1\n",
      "  }\n",
      "]\n"
     ]
    }
   ],
   "source": [
    "trace_list, final_error = parse_stack_trace(sample.stack_trace)\n",
    "print(\"Final error:\", json.dumps(final_error, indent=2))\n",
    "print(\"Trace list:\", json.dumps(trace_list, indent=2))"
   ]
  },
  {
   "cell_type": "code",
   "execution_count": 12,
   "metadata": {},
   "outputs": [
    {
     "data": {
      "text/html": [
       "<div>\n",
       "<style scoped>\n",
       "    .dataframe tbody tr th:only-of-type {\n",
       "        vertical-align: middle;\n",
       "    }\n",
       "\n",
       "    .dataframe tbody tr th {\n",
       "        vertical-align: top;\n",
       "    }\n",
       "\n",
       "    .dataframe thead th {\n",
       "        text-align: right;\n",
       "    }\n",
       "</style>\n",
       "<table border=\"1\" class=\"dataframe\">\n",
       "  <thead>\n",
       "    <tr style=\"text-align: right;\">\n",
       "      <th></th>\n",
       "      <th>id</th>\n",
       "      <th>url</th>\n",
       "      <th>interpreter</th>\n",
       "      <th>stack_trace</th>\n",
       "      <th>trace_list</th>\n",
       "      <th>final_error</th>\n",
       "    </tr>\n",
       "  </thead>\n",
       "  <tbody>\n",
       "    <tr>\n",
       "      <th>0</th>\n",
       "      <td>12</td>\n",
       "      <td>https://github.com/jiangxufeng/v2rayL/issues/13</td>\n",
       "      <td>cpython</td>\n",
       "      <td>Traceback (most recent call last):\\n\\n\\n \"v2ra...</td>\n",
       "      <td>[{'func_name': '&lt;module&gt;', 'file_name': 'v2ray...</td>\n",
       "      <td>{'error_type': 'ImportError', 'error_msg': 'Un...</td>\n",
       "    </tr>\n",
       "    <tr>\n",
       "      <th>1</th>\n",
       "      <td>28</td>\n",
       "      <td>https://github.com/jiangxufeng/v2rayL/issues/31</td>\n",
       "      <td>cpython</td>\n",
       "      <td>mackel@linux-pd0d:[~/Downloads]:Traceback (mos...</td>\n",
       "      <td>[{'func_name': '&lt;module&gt;', 'file_name': 'v2ray...</td>\n",
       "      <td>{'error_type': 'ImportError', 'error_msg': 'Un...</td>\n",
       "    </tr>\n",
       "    <tr>\n",
       "      <th>2</th>\n",
       "      <td>64</td>\n",
       "      <td>https://github.com/jiangxufeng/v2rayL/issues/69</td>\n",
       "      <td>cpython</td>\n",
       "      <td>root@ubuntu:V2Ray# Traceback (most recent call...</td>\n",
       "      <td>[{'func_name': 'qt_message_handler', 'file_nam...</td>\n",
       "      <td>{'error_type': 'ValueError', 'error_msg': 'not...</td>\n",
       "    </tr>\n",
       "  </tbody>\n",
       "</table>\n",
       "</div>"
      ],
      "text/plain": [
       "   id                                              url interpreter  \\\n",
       "0  12  https://github.com/jiangxufeng/v2rayL/issues/13     cpython   \n",
       "1  28  https://github.com/jiangxufeng/v2rayL/issues/31     cpython   \n",
       "2  64  https://github.com/jiangxufeng/v2rayL/issues/69     cpython   \n",
       "\n",
       "                                         stack_trace  \\\n",
       "0  Traceback (most recent call last):\\n\\n\\n \"v2ra...   \n",
       "1  mackel@linux-pd0d:[~/Downloads]:Traceback (mos...   \n",
       "2  root@ubuntu:V2Ray# Traceback (most recent call...   \n",
       "\n",
       "                                          trace_list  \\\n",
       "0  [{'func_name': '<module>', 'file_name': 'v2ray...   \n",
       "1  [{'func_name': '<module>', 'file_name': 'v2ray...   \n",
       "2  [{'func_name': 'qt_message_handler', 'file_nam...   \n",
       "\n",
       "                                         final_error  \n",
       "0  {'error_type': 'ImportError', 'error_msg': 'Un...  \n",
       "1  {'error_type': 'ImportError', 'error_msg': 'Un...  \n",
       "2  {'error_type': 'ValueError', 'error_msg': 'not...  "
      ]
     },
     "execution_count": 12,
     "metadata": {},
     "output_type": "execute_result"
    }
   ],
   "source": [
    "# apply parse_stack_trace to each stack_trace\n",
    "df['trace_list'], df['final_error'] = zip(*df['stack_trace'].map(parse_stack_trace))\n",
    "df.head(3)"
   ]
  },
  {
   "cell_type": "code",
   "execution_count": 13,
   "metadata": {},
   "outputs": [
    {
     "name": "stdout",
     "output_type": "stream",
     "text": [
      "Number of Nones in final_error: 109728 out of 377678\n",
      "Percentage of Nones in final_error: 0.2905332055348736\n"
     ]
    }
   ],
   "source": [
    "# count number of Nones in final_error\n",
    "n_nans = df['final_error'].isna().sum()\n",
    "print(\"Number of Nones in final_error:\", n_nans, \"out of\", len(df))\n",
    "print(\"Percentage of Nones in final_error:\", n_nans / len(df))"
   ]
  },
  {
   "cell_type": "code",
   "execution_count": 14,
   "metadata": {},
   "outputs": [],
   "source": [
    "df.dropna(inplace=True)"
   ]
  },
  {
   "cell_type": "code",
   "execution_count": 15,
   "metadata": {},
   "outputs": [
    {
     "data": {
      "text/html": [
       "<div>\n",
       "<style scoped>\n",
       "    .dataframe tbody tr th:only-of-type {\n",
       "        vertical-align: middle;\n",
       "    }\n",
       "\n",
       "    .dataframe tbody tr th {\n",
       "        vertical-align: top;\n",
       "    }\n",
       "\n",
       "    .dataframe thead th {\n",
       "        text-align: right;\n",
       "    }\n",
       "</style>\n",
       "<table border=\"1\" class=\"dataframe\">\n",
       "  <thead>\n",
       "    <tr style=\"text-align: right;\">\n",
       "      <th></th>\n",
       "      <th>id</th>\n",
       "      <th>url</th>\n",
       "      <th>interpreter</th>\n",
       "      <th>stack_trace</th>\n",
       "      <th>trace_list</th>\n",
       "      <th>final_error</th>\n",
       "      <th>error_type</th>\n",
       "      <th>error_msg</th>\n",
       "    </tr>\n",
       "  </thead>\n",
       "  <tbody>\n",
       "    <tr>\n",
       "      <th>0</th>\n",
       "      <td>12</td>\n",
       "      <td>https://github.com/jiangxufeng/v2rayL/issues/13</td>\n",
       "      <td>cpython</td>\n",
       "      <td>Traceback (most recent call last):\\n\\n\\n \"v2ra...</td>\n",
       "      <td>[{'func_name': '&lt;module&gt;', 'file_name': 'v2ray...</td>\n",
       "      <td>{'error_type': 'ImportError', 'error_msg': 'Un...</td>\n",
       "      <td>ImportError</td>\n",
       "      <td>Unable to find zbar shared library</td>\n",
       "    </tr>\n",
       "    <tr>\n",
       "      <th>1</th>\n",
       "      <td>28</td>\n",
       "      <td>https://github.com/jiangxufeng/v2rayL/issues/31</td>\n",
       "      <td>cpython</td>\n",
       "      <td>mackel@linux-pd0d:[~/Downloads]:Traceback (mos...</td>\n",
       "      <td>[{'func_name': '&lt;module&gt;', 'file_name': 'v2ray...</td>\n",
       "      <td>{'error_type': 'ImportError', 'error_msg': 'Un...</td>\n",
       "      <td>ImportError</td>\n",
       "      <td>Unable to find zbar shared library</td>\n",
       "    </tr>\n",
       "    <tr>\n",
       "      <th>2</th>\n",
       "      <td>64</td>\n",
       "      <td>https://github.com/jiangxufeng/v2rayL/issues/69</td>\n",
       "      <td>cpython</td>\n",
       "      <td>root@ubuntu:V2Ray# Traceback (most recent call...</td>\n",
       "      <td>[{'func_name': 'qt_message_handler', 'file_nam...</td>\n",
       "      <td>{'error_type': 'ValueError', 'error_msg': 'not...</td>\n",
       "      <td>ValueError</td>\n",
       "      <td>not enough values to unpack (expected 2, got 1)</td>\n",
       "    </tr>\n",
       "  </tbody>\n",
       "</table>\n",
       "</div>"
      ],
      "text/plain": [
       "   id                                              url interpreter  \\\n",
       "0  12  https://github.com/jiangxufeng/v2rayL/issues/13     cpython   \n",
       "1  28  https://github.com/jiangxufeng/v2rayL/issues/31     cpython   \n",
       "2  64  https://github.com/jiangxufeng/v2rayL/issues/69     cpython   \n",
       "\n",
       "                                         stack_trace  \\\n",
       "0  Traceback (most recent call last):\\n\\n\\n \"v2ra...   \n",
       "1  mackel@linux-pd0d:[~/Downloads]:Traceback (mos...   \n",
       "2  root@ubuntu:V2Ray# Traceback (most recent call...   \n",
       "\n",
       "                                          trace_list  \\\n",
       "0  [{'func_name': '<module>', 'file_name': 'v2ray...   \n",
       "1  [{'func_name': '<module>', 'file_name': 'v2ray...   \n",
       "2  [{'func_name': 'qt_message_handler', 'file_nam...   \n",
       "\n",
       "                                         final_error   error_type  \\\n",
       "0  {'error_type': 'ImportError', 'error_msg': 'Un...  ImportError   \n",
       "1  {'error_type': 'ImportError', 'error_msg': 'Un...  ImportError   \n",
       "2  {'error_type': 'ValueError', 'error_msg': 'not...   ValueError   \n",
       "\n",
       "                                         error_msg  \n",
       "0               Unable to find zbar shared library  \n",
       "1               Unable to find zbar shared library  \n",
       "2  not enough values to unpack (expected 2, got 1)  "
      ]
     },
     "execution_count": 15,
     "metadata": {},
     "output_type": "execute_result"
    }
   ],
   "source": [
    "# split final error into error type and error message\n",
    "df['error_type'] = df['final_error'].apply(lambda x: x['error_type'])\n",
    "df['error_msg'] = df['final_error'].apply(lambda x: x['error_msg'])\n",
    "df.head(3)"
   ]
  },
  {
   "cell_type": "code",
   "execution_count": 16,
   "metadata": {},
   "outputs": [
    {
     "data": {
      "text/html": [
       "<div>\n",
       "<style scoped>\n",
       "    .dataframe tbody tr th:only-of-type {\n",
       "        vertical-align: middle;\n",
       "    }\n",
       "\n",
       "    .dataframe tbody tr th {\n",
       "        vertical-align: top;\n",
       "    }\n",
       "\n",
       "    .dataframe thead th {\n",
       "        text-align: right;\n",
       "    }\n",
       "</style>\n",
       "<table border=\"1\" class=\"dataframe\">\n",
       "  <thead>\n",
       "    <tr style=\"text-align: right;\">\n",
       "      <th></th>\n",
       "      <th>url</th>\n",
       "      <th>interpreter</th>\n",
       "      <th>stack_trace</th>\n",
       "      <th>trace_list</th>\n",
       "      <th>error_type</th>\n",
       "      <th>error_msg</th>\n",
       "    </tr>\n",
       "  </thead>\n",
       "  <tbody>\n",
       "    <tr>\n",
       "      <th>0</th>\n",
       "      <td>https://github.com/jiangxufeng/v2rayL/issues/13</td>\n",
       "      <td>cpython</td>\n",
       "      <td>Traceback (most recent call last):\\n\\n\\n \"v2ra...</td>\n",
       "      <td>[{'func_name': '&lt;module&gt;', 'file_name': 'v2ray...</td>\n",
       "      <td>ImportError</td>\n",
       "      <td>Unable to find zbar shared library</td>\n",
       "    </tr>\n",
       "    <tr>\n",
       "      <th>1</th>\n",
       "      <td>https://github.com/jiangxufeng/v2rayL/issues/31</td>\n",
       "      <td>cpython</td>\n",
       "      <td>mackel@linux-pd0d:[~/Downloads]:Traceback (mos...</td>\n",
       "      <td>[{'func_name': '&lt;module&gt;', 'file_name': 'v2ray...</td>\n",
       "      <td>ImportError</td>\n",
       "      <td>Unable to find zbar shared library</td>\n",
       "    </tr>\n",
       "    <tr>\n",
       "      <th>2</th>\n",
       "      <td>https://github.com/jiangxufeng/v2rayL/issues/69</td>\n",
       "      <td>cpython</td>\n",
       "      <td>root@ubuntu:V2Ray# Traceback (most recent call...</td>\n",
       "      <td>[{'func_name': 'qt_message_handler', 'file_nam...</td>\n",
       "      <td>ValueError</td>\n",
       "      <td>not enough values to unpack (expected 2, got 1)</td>\n",
       "    </tr>\n",
       "  </tbody>\n",
       "</table>\n",
       "</div>"
      ],
      "text/plain": [
       "                                               url interpreter  \\\n",
       "0  https://github.com/jiangxufeng/v2rayL/issues/13     cpython   \n",
       "1  https://github.com/jiangxufeng/v2rayL/issues/31     cpython   \n",
       "2  https://github.com/jiangxufeng/v2rayL/issues/69     cpython   \n",
       "\n",
       "                                         stack_trace  \\\n",
       "0  Traceback (most recent call last):\\n\\n\\n \"v2ra...   \n",
       "1  mackel@linux-pd0d:[~/Downloads]:Traceback (mos...   \n",
       "2  root@ubuntu:V2Ray# Traceback (most recent call...   \n",
       "\n",
       "                                          trace_list   error_type  \\\n",
       "0  [{'func_name': '<module>', 'file_name': 'v2ray...  ImportError   \n",
       "1  [{'func_name': '<module>', 'file_name': 'v2ray...  ImportError   \n",
       "2  [{'func_name': 'qt_message_handler', 'file_nam...   ValueError   \n",
       "\n",
       "                                         error_msg  \n",
       "0               Unable to find zbar shared library  \n",
       "1               Unable to find zbar shared library  \n",
       "2  not enough values to unpack (expected 2, got 1)  "
      ]
     },
     "execution_count": 16,
     "metadata": {},
     "output_type": "execute_result"
    }
   ],
   "source": [
    "drop_cols = ['id', 'final_error']\n",
    "df.drop(columns=drop_cols, inplace=True)\n",
    "df.head(3)"
   ]
  },
  {
   "cell_type": "code",
   "execution_count": 17,
   "metadata": {},
   "outputs": [
    {
     "data": {
      "text/html": [
       "<div>\n",
       "<style scoped>\n",
       "    .dataframe tbody tr th:only-of-type {\n",
       "        vertical-align: middle;\n",
       "    }\n",
       "\n",
       "    .dataframe tbody tr th {\n",
       "        vertical-align: top;\n",
       "    }\n",
       "\n",
       "    .dataframe thead th {\n",
       "        text-align: right;\n",
       "    }\n",
       "</style>\n",
       "<table border=\"1\" class=\"dataframe\">\n",
       "  <thead>\n",
       "    <tr style=\"text-align: right;\">\n",
       "      <th></th>\n",
       "      <th>url</th>\n",
       "      <th>interpreter</th>\n",
       "      <th>stack_trace</th>\n",
       "      <th>trace_list</th>\n",
       "      <th>error_type</th>\n",
       "      <th>error_msg</th>\n",
       "    </tr>\n",
       "  </thead>\n",
       "  <tbody>\n",
       "    <tr>\n",
       "      <th>0</th>\n",
       "      <td>https://github.com/ytdl-org/youtube-dl/issues/...</td>\n",
       "      <td>cpython</td>\n",
       "      <td>Traceback (most recent call last):\\n\\n\\n \"/usr...</td>\n",
       "      <td>[{'func_name': '_decrypt_signature', 'file_nam...</td>\n",
       "      <td>youtube_dl.utils.ExtractorError</td>\n",
       "      <td>Unsupported JS expression '[1596180896,'; plea...</td>\n",
       "    </tr>\n",
       "    <tr>\n",
       "      <th>1</th>\n",
       "      <td>https://github.com/Nandaka/PixivUtil2/issues/400</td>\n",
       "      <td>cpython</td>\n",
       "      <td>2018-08-22 13:42:00,933 - PixivUtil20180815-be...</td>\n",
       "      <td>[{'func_name': 'process_member', 'file_name': ...</td>\n",
       "      <td>AttributeError</td>\n",
       "      <td>'NoneType' object has no attribute 'has_key'</td>\n",
       "    </tr>\n",
       "    <tr>\n",
       "      <th>2</th>\n",
       "      <td>https://github.com/frappe/erpnext/issues/16928</td>\n",
       "      <td>cpython</td>\n",
       "      <td>Traceback (most recent call last):\\n\\n\\n \"/hom...</td>\n",
       "      <td>[{'func_name': 'application', 'file_name': '/h...</td>\n",
       "      <td>ValidationError</td>\n",
       "      <td>Stripe Settings not found</td>\n",
       "    </tr>\n",
       "  </tbody>\n",
       "</table>\n",
       "</div>"
      ],
      "text/plain": [
       "                                                 url interpreter  \\\n",
       "0  https://github.com/ytdl-org/youtube-dl/issues/...     cpython   \n",
       "1   https://github.com/Nandaka/PixivUtil2/issues/400     cpython   \n",
       "2     https://github.com/frappe/erpnext/issues/16928     cpython   \n",
       "\n",
       "                                         stack_trace  \\\n",
       "0  Traceback (most recent call last):\\n\\n\\n \"/usr...   \n",
       "1  2018-08-22 13:42:00,933 - PixivUtil20180815-be...   \n",
       "2  Traceback (most recent call last):\\n\\n\\n \"/hom...   \n",
       "\n",
       "                                          trace_list  \\\n",
       "0  [{'func_name': '_decrypt_signature', 'file_nam...   \n",
       "1  [{'func_name': 'process_member', 'file_name': ...   \n",
       "2  [{'func_name': 'application', 'file_name': '/h...   \n",
       "\n",
       "                        error_type  \\\n",
       "0  youtube_dl.utils.ExtractorError   \n",
       "1                   AttributeError   \n",
       "2                  ValidationError   \n",
       "\n",
       "                                           error_msg  \n",
       "0  Unsupported JS expression '[1596180896,'; plea...  \n",
       "1       'NoneType' object has no attribute 'has_key'  \n",
       "2                          Stripe Settings not found  "
      ]
     },
     "execution_count": 17,
     "metadata": {},
     "output_type": "execute_result"
    }
   ],
   "source": [
    "# shuffle with seed\n",
    "df = df.sample(frac=1, random_state=42).reset_index(drop=True)\n",
    "df.head(3)"
   ]
  },
  {
   "cell_type": "code",
   "execution_count": 21,
   "metadata": {},
   "outputs": [],
   "source": [
    "# convert to hf\n",
    "from datasets import Dataset\n",
    "hf_dataset = Dataset.from_pandas(df)"
   ]
  },
  {
   "cell_type": "code",
   "execution_count": 22,
   "metadata": {},
   "outputs": [
    {
     "data": {
      "text/plain": [
       "Dataset({\n",
       "    features: ['url', 'interpreter', 'stack_trace', 'trace_list', 'error_type', 'error_msg'],\n",
       "    num_rows: 267950\n",
       "})"
      ]
     },
     "execution_count": 22,
     "metadata": {},
     "output_type": "execute_result"
    }
   ],
   "source": [
    "hf_dataset"
   ]
  },
  {
   "cell_type": "code",
   "execution_count": 23,
   "metadata": {},
   "outputs": [
    {
     "name": "stdout",
     "output_type": "stream",
     "text": [
      "Train size: 20000\n",
      "Test size: 5000\n",
      "Other size: 242950\n"
     ]
    }
   ],
   "source": [
    "# make 3 splits (train, test, other)\n",
    "\n",
    "\n",
    "n_samples = cfg.n_samples\n",
    "test_split = cfg.test_split\n",
    "# take in other len(df) - n_samples samples\n",
    "hf_dataset = hf_dataset.shuffle(seed=42)\n",
    "hf_testtrain = hf_dataset.select(range(n_samples))\n",
    "hf_other = hf_dataset.select(range(n_samples, len(hf_dataset)))\n",
    "hf_final = hf_testtrain.train_test_split(test_size=test_split, seed=42)\n",
    "hf_final[\"other\"] = hf_other\n",
    "\n",
    "print(\"Train size:\", len(hf_final[\"train\"]))\n",
    "print(\"Test size:\", len(hf_final[\"test\"]))\n",
    "print(\"Other size:\", len(hf_final[\"other\"]))"
   ]
  },
  {
   "cell_type": "code",
   "execution_count": 44,
   "metadata": {},
   "outputs": [
    {
     "data": {
      "application/vnd.jupyter.widget-view+json": {
       "model_id": "48ec855f6241473cbc7df28cb2fc88a6",
       "version_major": 2,
       "version_minor": 0
      },
      "text/plain": [
       "VBox(children=(HTML(value='<center> <img\\nsrc=https://huggingface.co/front/assets/huggingface_logo-noborder.sv…"
      ]
     },
     "metadata": {},
     "output_type": "display_data"
    }
   ],
   "source": [
    "from huggingface_hub import notebook_login\n",
    "notebook_login()"
   ]
  },
  {
   "cell_type": "code",
   "execution_count": 45,
   "metadata": {},
   "outputs": [
    {
     "data": {
      "application/vnd.jupyter.widget-view+json": {
       "model_id": "9173193731e24067a931c283290e8fe2",
       "version_major": 2,
       "version_minor": 0
      },
      "text/plain": [
       "Pushing dataset shards to the dataset hub:   0%|          | 0/1 [00:00<?, ?it/s]"
      ]
     },
     "metadata": {},
     "output_type": "display_data"
    },
    {
     "data": {
      "application/vnd.jupyter.widget-view+json": {
       "model_id": "75b5ea9d817348eea787682796f9d0c7",
       "version_major": 2,
       "version_minor": 0
      },
      "text/plain": [
       "Creating parquet from Arrow format:   0%|          | 0/268 [00:00<?, ?ba/s]"
      ]
     },
     "metadata": {},
     "output_type": "display_data"
    }
   ],
   "source": [
    "save_params = glob_cfg.datasets[cfg.save_dataset].hf_save_params\n",
    "print(\"Save params:\", save_params)\n",
    "\n",
    "hf_dataset.push_to_hub(\n",
    "    **save_params,\n",
    "    private=True\n",
    ")"
   ]
  }
 ],
 "metadata": {
  "kernelspec": {
   "display_name": "venv",
   "language": "python",
   "name": "python3"
  },
  "language_info": {
   "codemirror_mode": {
    "name": "ipython",
    "version": 3
   },
   "file_extension": ".py",
   "mimetype": "text/x-python",
   "name": "python",
   "nbconvert_exporter": "python",
   "pygments_lexer": "ipython3",
   "version": "3.11.4"
  },
  "orig_nbformat": 4
 },
 "nbformat": 4,
 "nbformat_minor": 2
}
