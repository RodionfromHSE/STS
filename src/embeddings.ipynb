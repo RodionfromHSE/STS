{
 "cells": [
  {
   "cell_type": "code",
   "execution_count": 63,
   "metadata": {},
   "outputs": [
    {
     "name": "stdout",
     "output_type": "stream",
     "text": [
      "The autoreload extension is already loaded. To reload it, use:\n",
      "  %reload_ext autoreload\n"
     ]
    }
   ],
   "source": [
    "%load_ext autoreload\n",
    "%autoreload 2"
   ]
  },
  {
   "cell_type": "code",
   "execution_count": 64,
   "metadata": {},
   "outputs": [
    {
     "name": "stdout",
     "output_type": "stream",
     "text": [
      "Root dir:  /Users/user010/Desktop/Programming/ML/STS\n"
     ]
    }
   ],
   "source": [
    "import os\n",
    "import sys\n",
    "\n",
    "root_dir = os.path.abspath('..')\n",
    "print(\"Root dir: \", root_dir)\n",
    "sys.path.append(root_dir)"
   ]
  },
  {
   "cell_type": "code",
   "execution_count": 65,
   "metadata": {},
   "outputs": [
    {
     "name": "stdout",
     "output_type": "stream",
     "text": [
      "{\n",
      "  \"dataset\": \"stsb_val\",\n",
      "  \"model\": \"pp_roberta\"\n",
      "}\n"
     ]
    }
   ],
   "source": [
    "from utils.helpers import read_config, print_config\n",
    "import numpy as np\n",
    "\n",
    "glob_cfg = read_config(\"../config.yaml\")\n",
    "cfg = read_config(glob_cfg.configs.embeddings)\n",
    "\n",
    "print_config(cfg)"
   ]
  },
  {
   "cell_type": "code",
   "execution_count": 66,
   "metadata": {},
   "outputs": [
    {
     "name": "stdout",
     "output_type": "stream",
     "text": [
      "{\n",
      "  \"root\": \"/Users/user010/Desktop/Programming/ML/STS\",\n",
      "  \"datasets\": {\n",
      "    \"stsb_train\": {\n",
      "      \"hf_params\": {\n",
      "        \"path\": \"stsb_multi_mt\",\n",
      "        \"name\": \"en\",\n",
      "        \"split\": \"train\"\n",
      "      }\n",
      "    },\n",
      "    \"stsb_val\": {\n",
      "      \"hf_params\": {\n",
      "        \"path\": \"stsb_multi_mt\",\n",
      "        \"name\": \"en\",\n",
      "        \"split\": \"test\"\n",
      "      }\n",
      "    }\n",
      "  },\n",
      "  \"models\": {\n",
      "    \"mini_lm\": {\n",
      "      \"st_params\": {\n",
      "        \"model_name_or_path\": \"paraphrase-MiniLM-L6-v2\"\n",
      "      }\n",
      "    },\n",
      "    \"pp_roberta\": {\n",
      "      \"st_params\": {\n",
      "        \"model_name_or_path\": \"sentence-transformers/paraphrase-distilroberta-base-v1\"\n",
      "      }\n",
      "    }\n",
      "  },\n",
      "  \"configs\": {\n",
      "    \"embeddings\": \"/Users/user010/Desktop/Programming/ML/STS/configs/embeddings.yaml\"\n",
      "  }\n",
      "}\n"
     ]
    }
   ],
   "source": [
    "print_config(glob_cfg)"
   ]
  },
  {
   "cell_type": "code",
   "execution_count": 67,
   "metadata": {},
   "outputs": [
    {
     "name": "stdout",
     "output_type": "stream",
     "text": [
      "Params: {'path': 'stsb_multi_mt', 'name': 'en', 'split': 'test'}\n"
     ]
    }
   ],
   "source": [
    "from datasets import load_dataset\n",
    "\n",
    "dataset_params = glob_cfg.datasets[cfg.dataset].hf_params\n",
    "print(\"Params:\", dataset_params)\n",
    "dataset = load_dataset(**dataset_params)"
   ]
  },
  {
   "cell_type": "code",
   "execution_count": 68,
   "metadata": {},
   "outputs": [
    {
     "data": {
      "text/plain": [
       "Dataset({\n",
       "    features: ['sentence1', 'sentence2', 'similarity_score'],\n",
       "    num_rows: 1379\n",
       "})"
      ]
     },
     "execution_count": 68,
     "metadata": {},
     "output_type": "execute_result"
    }
   ],
   "source": [
    "dataset"
   ]
  },
  {
   "cell_type": "code",
   "execution_count": 69,
   "metadata": {},
   "outputs": [
    {
     "name": "stdout",
     "output_type": "stream",
     "text": [
      "Params: {'model_name_or_path': 'sentence-transformers/paraphrase-distilroberta-base-v1'}\n"
     ]
    },
    {
     "name": "stderr",
     "output_type": "stream",
     "text": [
      "Downloading (…)7f4ef/.gitattributes: 100%|██████████| 391/391 [00:00<00:00, 3.23MB/s]\n",
      "Downloading (…)_Pooling/config.json: 100%|██████████| 190/190 [00:00<00:00, 1.41MB/s]\n",
      "Downloading (…)f279f7f4ef/README.md: 100%|██████████| 3.74k/3.74k [00:00<00:00, 45.5MB/s]\n",
      "Downloading (…)79f7f4ef/config.json: 100%|██████████| 718/718 [00:00<00:00, 4.82MB/s]\n",
      "Downloading (…)ce_transformers.json: 100%|██████████| 122/122 [00:00<00:00, 1.30MB/s]\n",
      "Downloading (…)279f7f4ef/merges.txt: 100%|██████████| 456k/456k [00:00<00:00, 4.24MB/s]\n",
      "Downloading pytorch_model.bin: 100%|██████████| 329M/329M [00:25<00:00, 12.9MB/s] \n",
      "Downloading (…)nce_bert_config.json: 100%|██████████| 53.0/53.0 [00:00<00:00, 109kB/s]\n",
      "Downloading (…)cial_tokens_map.json: 100%|██████████| 239/239 [00:00<00:00, 1.01MB/s]\n",
      "Downloading (…)7f4ef/tokenizer.json: 100%|██████████| 1.36M/1.36M [00:00<00:00, 9.04MB/s]\n",
      "Downloading (…)okenizer_config.json: 100%|██████████| 1.35k/1.35k [00:00<00:00, 3.44MB/s]\n",
      "Downloading (…)279f7f4ef/vocab.json: 100%|██████████| 798k/798k [00:00<00:00, 11.3MB/s]\n",
      "Downloading (…)9f7f4ef/modules.json: 100%|██████████| 229/229 [00:00<00:00, 1.62MB/s]\n"
     ]
    }
   ],
   "source": [
    "from sentence_transformers import SentenceTransformer, util\n",
    "\n",
    "model_params = glob_cfg.models[cfg.model].st_params\n",
    "print(\"Params:\", model_params)\n",
    "model = SentenceTransformer(**model_params)"
   ]
  },
  {
   "cell_type": "code",
   "execution_count": 70,
   "metadata": {},
   "outputs": [],
   "source": [
    "\n",
    "# np.random.seed(42)\n",
    "# n = 50\n",
    "# rnd_sample = np.random.choice(len(dataset), n)\n",
    "# dataset = dataset.select(rnd_sample)"
   ]
  },
  {
   "cell_type": "code",
   "execution_count": 71,
   "metadata": {},
   "outputs": [
    {
     "data": {
      "text/plain": [
       "Dataset({\n",
       "    features: ['sentence1', 'sentence2', 'similarity_score'],\n",
       "    num_rows: 1379\n",
       "})"
      ]
     },
     "execution_count": 71,
     "metadata": {},
     "output_type": "execute_result"
    }
   ],
   "source": [
    "dataset"
   ]
  },
  {
   "cell_type": "code",
   "execution_count": 72,
   "metadata": {},
   "outputs": [
    {
     "name": "stderr",
     "output_type": "stream",
     "text": [
      "Map: 100%|██████████| 1379/1379 [00:08<00:00, 164.35 examples/s]\n"
     ]
    },
    {
     "data": {
      "text/plain": [
       "Dataset({\n",
       "    features: ['sentence1', 'sentence2', 'similarity_score', 'emb1', 'emb2'],\n",
       "    num_rows: 1379\n",
       "})"
      ]
     },
     "execution_count": 72,
     "metadata": {},
     "output_type": "execute_result"
    }
   ],
   "source": [
    "# create emb1 and emb2 in dataset\n",
    "dataset = dataset.map(lambda x: \n",
    "                      {'emb1': model.encode(x['sentence1'], convert_to_tensor=True), 'emb2': model.encode(x['sentence2'], convert_to_tensor=True)}, \n",
    "                        batched=True\n",
    "                      )\n",
    "dataset"
   ]
  },
  {
   "cell_type": "code",
   "execution_count": 73,
   "metadata": {},
   "outputs": [
    {
     "name": "stderr",
     "output_type": "stream",
     "text": [
      "Map:   0%|          | 0/1379 [00:00<?, ? examples/s]"
     ]
    },
    {
     "name": "stderr",
     "output_type": "stream",
     "text": [
      "Map: 100%|██████████| 1379/1379 [00:00<00:00, 26915.59 examples/s]\n"
     ]
    }
   ],
   "source": [
    "# let's normalize score\n",
    "max_score = 5\n",
    "dataset = dataset.map(lambda x: {'similarity_score': x['similarity_score']/max_score})"
   ]
  },
  {
   "cell_type": "code",
   "execution_count": 74,
   "metadata": {},
   "outputs": [
    {
     "name": "stderr",
     "output_type": "stream",
     "text": [
      "Map: 100%|██████████| 1379/1379 [00:00<00:00, 1678.00 examples/s]\n"
     ]
    }
   ],
   "source": [
    "def get_sim_score(x):\n",
    "    return util.pytorch_cos_sim(x['emb1'], x['emb2']).item()\n",
    "\n",
    "def add_sim_score_features(x):\n",
    "    sim_score = get_sim_score(x)\n",
    "    return {'model_score': sim_score, 'diff': np.abs(sim_score - x['similarity_score'])}\n",
    "\n",
    "dataset = dataset.map(add_sim_score_features)"
   ]
  },
  {
   "cell_type": "code",
   "execution_count": 75,
   "metadata": {},
   "outputs": [
    {
     "name": "stdout",
     "output_type": "stream",
     "text": [
      "Average diff: 0.1664817318903786\n"
     ]
    }
   ],
   "source": [
    "# average diff\n",
    "print(\"Average diff:\", np.mean(dataset['diff']))"
   ]
  },
  {
   "cell_type": "code",
   "execution_count": 76,
   "metadata": {},
   "outputs": [
    {
     "name": "stdout",
     "output_type": "stream",
     "text": [
      "{\n",
      "  \"sentence1\": \"Bahraini protesters and police clash after funeral\",\n",
      "  \"sentence2\": \"Greek protesters, police clash as bailout deal in limbo\",\n",
      "  \"similarity_score\": 0.12000000476837158,\n",
      "  \"model_score\": 0.6286015510559082,\n",
      "  \"diff\": 0.5086015462875366\n",
      "}\n",
      "------------------------------\n",
      "\n",
      "{\n",
      "  \"sentence1\": \"People on motorcycles wearing racing gear ride around a racetrack\",\n",
      "  \"sentence2\": \"People on motorcycles ride around a racetrack\",\n",
      "  \"similarity_score\": 0.7599999904632568,\n",
      "  \"model_score\": 0.9040279984474182,\n",
      "  \"diff\": 0.14402800798416138\n",
      "}\n",
      "------------------------------\n",
      "\n",
      "{\n",
      "  \"sentence1\": \"A dog is running through a pond\",\n",
      "  \"sentence2\": \"A pale dog is running along a dirt path.\",\n",
      "  \"similarity_score\": 0.2800000011920929,\n",
      "  \"model_score\": 0.6049938201904297,\n",
      "  \"diff\": 0.3249938189983368\n",
      "}\n",
      "------------------------------\n",
      "\n"
     ]
    }
   ],
   "source": [
    "import json\n",
    "rnd = np.random.choice(len(dataset), 3)\n",
    "\n",
    "for idx in rnd:\n",
    "    idx = int(idx)\n",
    "    sample = dataset[idx]\n",
    "    sample_without_emb = {k: v for k, v in sample.items() if k not in ['emb1', 'emb2']}\n",
    "    print(json.dumps(sample_without_emb, indent=2))\n",
    "    print('---'*10)\n",
    "    print()"
   ]
  },
  {
   "cell_type": "markdown",
   "metadata": {},
   "source": [
    "Well, I agree more with model prediction than with ground truth score."
   ]
  }
 ],
 "metadata": {
  "kernelspec": {
   "display_name": "venv",
   "language": "python",
   "name": "python3"
  },
  "language_info": {
   "codemirror_mode": {
    "name": "ipython",
    "version": 3
   },
   "file_extension": ".py",
   "mimetype": "text/x-python",
   "name": "python",
   "nbconvert_exporter": "python",
   "pygments_lexer": "ipython3",
   "version": "3.11.4"
  },
  "orig_nbformat": 4
 },
 "nbformat": 4,
 "nbformat_minor": 2
}
