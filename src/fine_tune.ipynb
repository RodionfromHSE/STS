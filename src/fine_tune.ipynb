{
 "cells": [
  {
   "cell_type": "code",
   "execution_count": 1,
   "metadata": {},
   "outputs": [],
   "source": [
    "%load_ext autoreload\n",
    "%autoreload 2"
   ]
  },
  {
   "cell_type": "code",
   "execution_count": 2,
   "metadata": {},
   "outputs": [
    {
     "name": "stdout",
     "output_type": "stream",
     "text": [
      "Root dir:  /Users/user010/Desktop/Programming/ML/STS\n"
     ]
    }
   ],
   "source": [
    "import os\n",
    "import sys\n",
    "\n",
    "root_dir = os.path.abspath('..')\n",
    "print(\"Root dir: \", root_dir)\n",
    "sys.path.append(root_dir)"
   ]
  },
  {
   "cell_type": "code",
   "execution_count": 3,
   "metadata": {},
   "outputs": [
    {
     "name": "stdout",
     "output_type": "stream",
     "text": [
      "{\n",
      "  \"model\": \"mini_lm\",\n",
      "  \"dataset\": \"stsb_train\",\n",
      "  \"val_dataset\": \"stsb_val\",\n",
      "  \"hf_model_repo\": \"under-tree/STS-model\"\n",
      "}\n"
     ]
    }
   ],
   "source": [
    "from utils.helpers import read_config, print_config\n",
    "import numpy as np\n",
    "\n",
    "glob_cfg = read_config(\"../config.yaml\")\n",
    "cfg = read_config(glob_cfg.configs.fine_tune)\n",
    "\n",
    "print_config(cfg)"
   ]
  },
  {
   "cell_type": "code",
   "execution_count": 4,
   "metadata": {},
   "outputs": [
    {
     "name": "stdout",
     "output_type": "stream",
     "text": [
      "Params: {'path': 'stsb_multi_mt', 'name': 'en', 'split': 'train'}\n"
     ]
    }
   ],
   "source": [
    "from datasets import load_dataset\n",
    "\n",
    "dataset_params = glob_cfg.datasets[cfg.dataset].hf_params\n",
    "print(\"Params:\", dataset_params)\n",
    "dataset = load_dataset(**dataset_params)"
   ]
  },
  {
   "cell_type": "code",
   "execution_count": 5,
   "metadata": {},
   "outputs": [],
   "source": [
    "# let's normalize score\n",
    "max_score = 5\n",
    "dataset = dataset.map(lambda x: {'similarity_score': x['similarity_score']/max_score})"
   ]
  },
  {
   "cell_type": "code",
   "execution_count": 6,
   "metadata": {},
   "outputs": [
    {
     "data": {
      "text/plain": [
       "Dataset({\n",
       "    features: ['sentence1', 'sentence2', 'similarity_score'],\n",
       "    num_rows: 5749\n",
       "})"
      ]
     },
     "execution_count": 6,
     "metadata": {},
     "output_type": "execute_result"
    }
   ],
   "source": [
    "dataset"
   ]
  },
  {
   "cell_type": "code",
   "execution_count": 7,
   "metadata": {},
   "outputs": [
    {
     "name": "stdout",
     "output_type": "stream",
     "text": [
      "Params: {'model_name_or_path': 'paraphrase-MiniLM-L6-v2'}\n"
     ]
    }
   ],
   "source": [
    "from sentence_transformers import SentenceTransformer, util, InputExample\n",
    "\n",
    "model_params = glob_cfg.models[cfg.model].st_params\n",
    "print(\"Params:\", model_params)\n",
    "model = SentenceTransformer(**model_params)"
   ]
  },
  {
   "cell_type": "code",
   "execution_count": 8,
   "metadata": {},
   "outputs": [],
   "source": [
    "\n",
    "def convert_to_input_example(example):\n",
    "    return InputExample(texts=[example[\"sentence1\"], example[\"sentence2\"]], label=example[\"similarity_score\"])\n",
    "\n",
    "train_dataset = [convert_to_input_example(example) for example in dataset]"
   ]
  },
  {
   "cell_type": "code",
   "execution_count": 9,
   "metadata": {},
   "outputs": [],
   "source": [
    "from sentence_transformers import SentencesDataset, losses\n",
    "from torch.utils.data import DataLoader\n",
    "\n",
    "train_dataset = SentencesDataset(train_dataset, model)\n",
    "train_dataloader = DataLoader(train_dataset, shuffle=True, batch_size=16)\n",
    "train_loss = losses.CosineSimilarityLoss(model)\n"
   ]
  },
  {
   "cell_type": "code",
   "execution_count": 34,
   "metadata": {},
   "outputs": [
    {
     "name": "stderr",
     "output_type": "stream",
     "text": [
      "Iteration: 100%|██████████| 360/360 [01:40<00:00,  3.60it/s]\n",
      "Iteration: 100%|██████████| 360/360 [01:45<00:00,  3.41it/s]\n",
      "Iteration: 100%|██████████| 360/360 [01:45<00:00,  3.43it/s]\n",
      "Iteration: 100%|██████████| 360/360 [01:45<00:00,  3.40it/s]\n",
      "Epoch: 100%|██████████| 4/4 [06:56<00:00, 104.18s/it]\n"
     ]
    }
   ],
   "source": [
    "model.fit(\n",
    "    train_objectives=[(train_dataloader, train_loss)],\n",
    "    epochs=4,\n",
    "    warmup_steps=100,\n",
    "    output_path=\"model-st\",\n",
    ")"
   ]
  },
  {
   "cell_type": "markdown",
   "metadata": {},
   "source": [
    "Evaluation"
   ]
  },
  {
   "cell_type": "code",
   "execution_count": 10,
   "metadata": {},
   "outputs": [],
   "source": [
    "model = SentenceTransformer(\"model-st\")"
   ]
  },
  {
   "cell_type": "code",
   "execution_count": 11,
   "metadata": {},
   "outputs": [
    {
     "name": "stdout",
     "output_type": "stream",
     "text": [
      "Params: {'path': 'stsb_multi_mt', 'name': 'en', 'split': 'test'}\n"
     ]
    }
   ],
   "source": [
    "val_dataset_params = glob_cfg.datasets[cfg.val_dataset].hf_params\n",
    "print(\"Params:\", val_dataset_params)\n",
    "val_dataset = load_dataset(**val_dataset_params)"
   ]
  },
  {
   "cell_type": "code",
   "execution_count": 17,
   "metadata": {},
   "outputs": [
    {
     "data": {
      "application/vnd.jupyter.widget-view+json": {
       "model_id": "5e4d895e24364d37a8f56405321d7ec8",
       "version_major": 2,
       "version_minor": 0
      },
      "text/plain": [
       "Map:   0%|          | 0/1379 [00:00<?, ? examples/s]"
      ]
     },
     "metadata": {},
     "output_type": "display_data"
    },
    {
     "data": {
      "text/plain": [
       "Dataset({\n",
       "    features: ['sentence1', 'sentence2', 'similarity_score', 'emb1', 'emb2'],\n",
       "    num_rows: 1379\n",
       "})"
      ]
     },
     "execution_count": 17,
     "metadata": {},
     "output_type": "execute_result"
    }
   ],
   "source": [
    "# create emb1 and emb2 in val_dataset\n",
    "val_dataset = val_dataset.map(lambda x: \n",
    "                        {f'emb1': model.encode(x['sentence1'], convert_to_tensor=True), \n",
    "                         f'emb2': model.encode(x['sentence2'], convert_to_tensor=True)},\n",
    "                         batched=True, batch_size=len(val_dataset)\n",
    "                        )\n",
    "val_dataset"
   ]
  },
  {
   "cell_type": "code",
   "execution_count": 18,
   "metadata": {},
   "outputs": [
    {
     "data": {
      "application/vnd.jupyter.widget-view+json": {
       "model_id": "9344115471a44673aaf416eb4e18e286",
       "version_major": 2,
       "version_minor": 0
      },
      "text/plain": [
       "Map:   0%|          | 0/1379 [00:00<?, ? examples/s]"
      ]
     },
     "metadata": {},
     "output_type": "display_data"
    }
   ],
   "source": [
    "# let's normalize score\n",
    "max_score = 5\n",
    "val_dataset = val_dataset.map(lambda x: {'similarity_score': x['similarity_score']/max_score})"
   ]
  },
  {
   "cell_type": "code",
   "execution_count": 19,
   "metadata": {},
   "outputs": [
    {
     "data": {
      "application/vnd.jupyter.widget-view+json": {
       "model_id": "424cd6289b354bc788e2004982d9f4f5",
       "version_major": 2,
       "version_minor": 0
      },
      "text/plain": [
       "Map:   0%|          | 0/1379 [00:00<?, ? examples/s]"
      ]
     },
     "metadata": {},
     "output_type": "display_data"
    }
   ],
   "source": [
    "def get_sim_score(x):\n",
    "    return util.pytorch_cos_sim(x[f'emb1'], x[f'emb2']).item()\n",
    "\n",
    "def add_sim_score_features(x):\n",
    "    score = get_sim_score(x)\n",
    "    return {'model_score': score, 'diff': abs(score - x['similarity_score'])}\n",
    "\n",
    "val_dataset = val_dataset.map(add_sim_score_features)"
   ]
  },
  {
   "cell_type": "code",
   "execution_count": 20,
   "metadata": {},
   "outputs": [
    {
     "name": "stdout",
     "output_type": "stream",
     "text": [
      "Average diff after fine-tuning: 0.12818199023199175\n"
     ]
    }
   ],
   "source": [
    "# average diff\n",
    "avg_diff = np.mean(val_dataset['diff'])\n",
    "print(f\"Average diff after fine-tuning: {avg_diff}\")"
   ]
  },
  {
   "cell_type": "code",
   "execution_count": 21,
   "metadata": {},
   "outputs": [
    {
     "name": "stdout",
     "output_type": "stream",
     "text": [
      "{\n",
      "  \"sentence1\": \"US, China fail to paper over cracks in ties\",\n",
      "  \"sentence2\": \"China: Relief in focus as hope for missing fades\",\n",
      "  \"similarity_score\": 0.07999999821186066,\n",
      "  \"model_score\": 0.2659902572631836,\n",
      "  \"diff\": 0.18599025905132294\n",
      "}\n",
      "------------------------------\n",
      "\n",
      "{\n",
      "  \"sentence1\": \"A man with a bicycle at a coffee house.\",\n",
      "  \"sentence2\": \"Man walking bicycle to patio of a coffee shop.\",\n",
      "  \"similarity_score\": 0.6399999856948853,\n",
      "  \"model_score\": 0.8284282684326172,\n",
      "  \"diff\": 0.18842828273773193\n",
      "}\n",
      "------------------------------\n",
      "\n",
      "{\n",
      "  \"sentence1\": \"Two men standing in grass staring at a car.\",\n",
      "  \"sentence2\": \"A woman in a pink top posing with beer.\",\n",
      "  \"similarity_score\": 0.03999999910593033,\n",
      "  \"model_score\": -0.053494710475206375,\n",
      "  \"diff\": 0.0934947095811367\n",
      "}\n",
      "------------------------------\n",
      "\n",
      "{\n",
      "  \"sentence1\": \"Some men are sawing.\",\n",
      "  \"sentence2\": \"Men are sawing logs.\",\n",
      "  \"similarity_score\": 0.6800000071525574,\n",
      "  \"model_score\": 0.7269361615180969,\n",
      "  \"diff\": 0.04693615436553955\n",
      "}\n",
      "------------------------------\n",
      "\n",
      "{\n",
      "  \"sentence1\": \"A baby panda goes down a slide.\",\n",
      "  \"sentence2\": \"A panda slides down a slide.\",\n",
      "  \"similarity_score\": 0.8799999952316284,\n",
      "  \"model_score\": 0.9131345748901367,\n",
      "  \"diff\": 0.0331345796585083\n",
      "}\n",
      "------------------------------\n",
      "\n"
     ]
    }
   ],
   "source": [
    "import json\n",
    "np.random.seed(43)\n",
    "rnd = np.random.choice(len(val_dataset), 5)\n",
    "\n",
    "features = ['sentence1', 'sentence2', 'similarity_score', f'model_score', f'diff']\n",
    "\n",
    "for idx in rnd:\n",
    "    idx = int(idx)\n",
    "    sample = val_dataset[idx]\n",
    "    sample = {k: sample[k] for k in sample if k in features}\n",
    "    print(json.dumps(sample, indent=2))\n",
    "    print('---'*10)\n",
    "    print()"
   ]
  },
  {
   "cell_type": "code",
   "execution_count": null,
   "metadata": {},
   "outputs": [],
   "source": []
  }
 ],
 "metadata": {
  "kernelspec": {
   "display_name": "venv",
   "language": "python",
   "name": "python3"
  },
  "language_info": {
   "codemirror_mode": {
    "name": "ipython",
    "version": 3
   },
   "file_extension": ".py",
   "mimetype": "text/x-python",
   "name": "python",
   "nbconvert_exporter": "python",
   "pygments_lexer": "ipython3",
   "version": "3.11.4"
  },
  "orig_nbformat": 4
 },
 "nbformat": 4,
 "nbformat_minor": 2
}
