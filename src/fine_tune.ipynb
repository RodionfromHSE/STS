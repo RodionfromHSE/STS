{
 "cells": [
  {
   "cell_type": "code",
   "execution_count": 10,
   "metadata": {},
   "outputs": [
    {
     "name": "stdout",
     "output_type": "stream",
     "text": [
      "The autoreload extension is already loaded. To reload it, use:\n",
      "  %reload_ext autoreload\n"
     ]
    }
   ],
   "source": [
    "%load_ext autoreload\n",
    "%autoreload 2"
   ]
  },
  {
   "cell_type": "code",
   "execution_count": 11,
   "metadata": {},
   "outputs": [
    {
     "name": "stdout",
     "output_type": "stream",
     "text": [
      "Root dir:  /Users/user010/Desktop/Programming/ML/STS\n"
     ]
    }
   ],
   "source": [
    "import os\n",
    "import sys\n",
    "\n",
    "root_dir = os.path.abspath('..')\n",
    "print(\"Root dir: \", root_dir)\n",
    "sys.path.append(root_dir)"
   ]
  },
  {
   "cell_type": "code",
   "execution_count": 12,
   "metadata": {},
   "outputs": [
    {
     "name": "stdout",
     "output_type": "stream",
     "text": [
      "{\n",
      "  \"model\": \"mini_lm\",\n",
      "  \"dataset\": \"stsb_train\",\n",
      "  \"hf_model_repo\": \"under-tree/STS-model\"\n",
      "}\n"
     ]
    }
   ],
   "source": [
    "from utils.helpers import read_config, print_config\n",
    "import numpy as np\n",
    "\n",
    "glob_cfg = read_config(\"../config.yaml\")\n",
    "cfg = read_config(glob_cfg.configs.fine_tune)\n",
    "\n",
    "print_config(cfg)"
   ]
  },
  {
   "cell_type": "code",
   "execution_count": 13,
   "metadata": {},
   "outputs": [
    {
     "name": "stdout",
     "output_type": "stream",
     "text": [
      "Params: {'path': 'stsb_multi_mt', 'name': 'en', 'split': 'train'}\n"
     ]
    }
   ],
   "source": [
    "from datasets import load_dataset\n",
    "\n",
    "dataset_params = glob_cfg.datasets[cfg.dataset].hf_params\n",
    "print(\"Params:\", dataset_params)\n",
    "dataset = load_dataset(**dataset_params)"
   ]
  },
  {
   "cell_type": "code",
   "execution_count": 14,
   "metadata": {},
   "outputs": [
    {
     "data": {
      "text/plain": [
       "Dataset({\n",
       "    features: ['sentence1', 'sentence2', 'similarity_score'],\n",
       "    num_rows: 5749\n",
       "})"
      ]
     },
     "execution_count": 14,
     "metadata": {},
     "output_type": "execute_result"
    }
   ],
   "source": [
    "dataset"
   ]
  },
  {
   "cell_type": "code",
   "execution_count": 15,
   "metadata": {},
   "outputs": [
    {
     "name": "stdout",
     "output_type": "stream",
     "text": [
      "Params: {'model_name_or_path': 'paraphrase-MiniLM-L6-v2'}\n"
     ]
    }
   ],
   "source": [
    "from sentence_transformers import SentenceTransformer, util, InputExample\n",
    "\n",
    "model_params = glob_cfg.models[cfg.model].st_params\n",
    "print(\"Params:\", model_params)\n",
    "model = SentenceTransformer(**model_params)"
   ]
  },
  {
   "cell_type": "code",
   "execution_count": 16,
   "metadata": {},
   "outputs": [],
   "source": [
    "\n",
    "def convert_to_input_example(example):\n",
    "    return InputExample(texts=[example[\"sentence1\"], example[\"sentence2\"]], label=example[\"similarity_score\"])\n",
    "\n",
    "train_dataset = [convert_to_input_example(example) for example in dataset]"
   ]
  },
  {
   "cell_type": "code",
   "execution_count": 18,
   "metadata": {},
   "outputs": [],
   "source": [
    "from sentence_transformers import SentencesDataset, losses\n",
    "from torch.utils.data import DataLoader\n",
    "\n",
    "train_dataset = SentencesDataset(train_dataset, model)\n",
    "train_dataloader = DataLoader(train_dataset, shuffle=True, batch_size=16)\n",
    "train_loss = losses.CosineSimilarityLoss(model)\n"
   ]
  },
  {
   "cell_type": "code",
   "execution_count": 19,
   "metadata": {},
   "outputs": [
    {
     "name": "stderr",
     "output_type": "stream",
     "text": [
      "Iteration:   9%|▉         | 33/360 [00:09<01:38,  3.33it/s]\n",
      "Epoch:   0%|          | 0/4 [00:09<?, ?it/s]\n"
     ]
    },
    {
     "ename": "KeyboardInterrupt",
     "evalue": "",
     "output_type": "error",
     "traceback": [
      "\u001b[0;31m---------------------------------------------------------------------------\u001b[0m",
      "\u001b[0;31mKeyboardInterrupt\u001b[0m                         Traceback (most recent call last)",
      "\u001b[1;32m/Users/user010/Desktop/Programming/ML/STS/src/fine_tune.ipynb Cell 9\u001b[0m line \u001b[0;36m1\n\u001b[0;32m----> <a href='vscode-notebook-cell:/Users/user010/Desktop/Programming/ML/STS/src/fine_tune.ipynb#X23sZmlsZQ%3D%3D?line=0'>1</a>\u001b[0m model\u001b[39m.\u001b[39;49mfit(\n\u001b[1;32m      <a href='vscode-notebook-cell:/Users/user010/Desktop/Programming/ML/STS/src/fine_tune.ipynb#X23sZmlsZQ%3D%3D?line=1'>2</a>\u001b[0m     train_objectives\u001b[39m=\u001b[39;49m[(train_dataloader, train_loss)],\n\u001b[1;32m      <a href='vscode-notebook-cell:/Users/user010/Desktop/Programming/ML/STS/src/fine_tune.ipynb#X23sZmlsZQ%3D%3D?line=2'>3</a>\u001b[0m     epochs\u001b[39m=\u001b[39;49m\u001b[39m4\u001b[39;49m,\n\u001b[1;32m      <a href='vscode-notebook-cell:/Users/user010/Desktop/Programming/ML/STS/src/fine_tune.ipynb#X23sZmlsZQ%3D%3D?line=3'>4</a>\u001b[0m     warmup_steps\u001b[39m=\u001b[39;49m\u001b[39m100\u001b[39;49m,\n\u001b[1;32m      <a href='vscode-notebook-cell:/Users/user010/Desktop/Programming/ML/STS/src/fine_tune.ipynb#X23sZmlsZQ%3D%3D?line=4'>5</a>\u001b[0m     output_path\u001b[39m=\u001b[39;49m\u001b[39m\"\u001b[39;49m\u001b[39mmodel-st\u001b[39;49m\u001b[39m\"\u001b[39;49m,\n\u001b[1;32m      <a href='vscode-notebook-cell:/Users/user010/Desktop/Programming/ML/STS/src/fine_tune.ipynb#X23sZmlsZQ%3D%3D?line=5'>6</a>\u001b[0m )\n",
      "File \u001b[0;32m~/Desktop/Programming/ML/STS/venv/lib/python3.11/site-packages/sentence_transformers/SentenceTransformer.py:722\u001b[0m, in \u001b[0;36mSentenceTransformer.fit\u001b[0;34m(self, train_objectives, evaluator, epochs, steps_per_epoch, scheduler, warmup_steps, optimizer_class, optimizer_params, weight_decay, evaluation_steps, output_path, save_best_model, max_grad_norm, use_amp, callback, show_progress_bar, checkpoint_path, checkpoint_save_steps, checkpoint_save_total_limit)\u001b[0m\n\u001b[1;32m    720\u001b[0m \u001b[39melse\u001b[39;00m:\n\u001b[1;32m    721\u001b[0m     loss_value \u001b[39m=\u001b[39m loss_model(features, labels)\n\u001b[0;32m--> 722\u001b[0m     loss_value\u001b[39m.\u001b[39;49mbackward()\n\u001b[1;32m    723\u001b[0m     torch\u001b[39m.\u001b[39mnn\u001b[39m.\u001b[39mutils\u001b[39m.\u001b[39mclip_grad_norm_(loss_model\u001b[39m.\u001b[39mparameters(), max_grad_norm)\n\u001b[1;32m    724\u001b[0m     optimizer\u001b[39m.\u001b[39mstep()\n",
      "File \u001b[0;32m~/Desktop/Programming/ML/STS/venv/lib/python3.11/site-packages/torch/_tensor.py:428\u001b[0m, in \u001b[0;36mTensor.backward\u001b[0;34m(self, gradient, retain_graph, create_graph, inputs)\u001b[0m\n\u001b[1;32m    425\u001b[0m     \u001b[39m# All strings are unicode in Python 3.\u001b[39;00m\n\u001b[1;32m    426\u001b[0m     \u001b[39mreturn\u001b[39;00m torch\u001b[39m.\u001b[39m_tensor_str\u001b[39m.\u001b[39m_str(\u001b[39mself\u001b[39m, tensor_contents\u001b[39m=\u001b[39mtensor_contents)\n\u001b[0;32m--> 428\u001b[0m \u001b[39mdef\u001b[39;00m \u001b[39mbackward\u001b[39m(\n\u001b[1;32m    429\u001b[0m     \u001b[39mself\u001b[39m, gradient\u001b[39m=\u001b[39m\u001b[39mNone\u001b[39;00m, retain_graph\u001b[39m=\u001b[39m\u001b[39mNone\u001b[39;00m, create_graph\u001b[39m=\u001b[39m\u001b[39mFalse\u001b[39;00m, inputs\u001b[39m=\u001b[39m\u001b[39mNone\u001b[39;00m\n\u001b[1;32m    430\u001b[0m ):\n\u001b[1;32m    431\u001b[0m \u001b[39m    \u001b[39m\u001b[39mr\u001b[39m\u001b[39m\"\"\"Computes the gradient of current tensor w.r.t. graph leaves.\u001b[39;00m\n\u001b[1;32m    432\u001b[0m \n\u001b[1;32m    433\u001b[0m \u001b[39m    The graph is differentiated using the chain rule. If the tensor is\u001b[39;00m\n\u001b[0;32m   (...)\u001b[0m\n\u001b[1;32m    475\u001b[0m \u001b[39m            used to compute the attr::tensors.\u001b[39;00m\n\u001b[1;32m    476\u001b[0m \u001b[39m    \"\"\"\u001b[39;00m\n\u001b[1;32m    477\u001b[0m     \u001b[39mif\u001b[39;00m has_torch_function_unary(\u001b[39mself\u001b[39m):\n",
      "\u001b[0;31mKeyboardInterrupt\u001b[0m: "
     ]
    }
   ],
   "source": [
    "model.fit(\n",
    "    train_objectives=[(train_dataloader, train_loss)],\n",
    "    epochs=4,\n",
    "    warmup_steps=100,\n",
    "    output_path=\"model-st\",\n",
    ")"
   ]
  },
  {
   "cell_type": "code",
   "execution_count": null,
   "metadata": {},
   "outputs": [],
   "source": [
    "from sentence_transformers.converters import SentenceTransformer_to_Transformers\n",
    "\n",
    "SentenceTransformer_to_Transformers.convert(model, \"model-hf\")"
   ]
  },
  {
   "cell_type": "code",
   "execution_count": null,
   "metadata": {},
   "outputs": [],
   "source": [
    "from huggingface_hub import notebook_login\n",
    "notebook_login()"
   ]
  },
  {
   "cell_type": "code",
   "execution_count": null,
   "metadata": {},
   "outputs": [],
   "source": [
    "from transformers import AutoTokenizer, AutoModel\n",
    "\n",
    "tokenizer = AutoTokenizer.from_pretrained(\"model-hf\")\n",
    "model_hf = AutoModel.from_pretrained(\"model-hf\")"
   ]
  },
  {
   "cell_type": "code",
   "execution_count": null,
   "metadata": {},
   "outputs": [],
   "source": [
    "# push both the tokenizer and the model to the hub\n",
    "hf_model_repo = cfg.hf_model_repo\n",
    "model_hf.push_to_hub(hf_model_repo, use_auth_token=True)\n",
    "tokenizer.push_to_hub(hf_model_repo, use_auth_token=True)"
   ]
  },
  {
   "cell_type": "markdown",
   "metadata": {},
   "source": [
    "Evaluation"
   ]
  },
  {
   "cell_type": "code",
   "execution_count": 84,
   "metadata": {},
   "outputs": [
    {
     "name": "stdout",
     "output_type": "stream",
     "text": [
      "Model: mini_lm\n"
     ]
    },
    {
     "name": "stderr",
     "output_type": "stream",
     "text": [
      "Map: 100%|██████████| 1379/1379 [00:04<00:00, 277.81 examples/s]\n"
     ]
    },
    {
     "name": "stdout",
     "output_type": "stream",
     "text": [
      "Model: pp_roberta\n"
     ]
    },
    {
     "name": "stderr",
     "output_type": "stream",
     "text": [
      "Map: 100%|██████████| 1379/1379 [00:08<00:00, 162.73 examples/s]\n"
     ]
    },
    {
     "data": {
      "text/plain": [
       "Dataset({\n",
       "    features: ['sentence1', 'sentence2', 'similarity_score', 'emb1_mini_lm', 'emb2_mini_lm', 'emb1_pp_roberta', 'emb2_pp_roberta'],\n",
       "    num_rows: 1379\n",
       "})"
      ]
     },
     "execution_count": 84,
     "metadata": {},
     "output_type": "execute_result"
    }
   ],
   "source": [
    "# create emb1 and emb2 in dataset\n",
    "dataset = dataset.map(lambda x: \n",
    "                        {f'emb1': model.encode(x['sentence1'], convert_to_tensor=True), \n",
    "                         f'emb2': model.encode(x['sentence2'], convert_to_tensor=True)},\n",
    "                         batched=True, batch_size=len(dataset)\n",
    "                        )\n",
    "dataset"
   ]
  },
  {
   "cell_type": "code",
   "execution_count": 85,
   "metadata": {},
   "outputs": [
    {
     "name": "stderr",
     "output_type": "stream",
     "text": [
      "Map: 100%|██████████| 1379/1379 [00:00<00:00, 19946.15 examples/s]\n"
     ]
    }
   ],
   "source": [
    "# let's normalize score\n",
    "max_score = 5\n",
    "dataset = dataset.map(lambda x: {'similarity_score': x['similarity_score']/max_score})"
   ]
  },
  {
   "cell_type": "code",
   "execution_count": 87,
   "metadata": {},
   "outputs": [
    {
     "name": "stderr",
     "output_type": "stream",
     "text": [
      "Map: 100%|██████████| 1379/1379 [00:01<00:00, 1099.79 examples/s]\n"
     ]
    }
   ],
   "source": [
    "def get_sim_score(x):\n",
    "    return util.pytorch_cos_sim(x[f'emb1'], x[f'emb2']).item()\n",
    "\n",
    "def add_sim_score_features(x):\n",
    "    score = get_sim_score(x)\n",
    "    return {'model_score': score, 'diff': abs(score - x['similarity_score'])}\n",
    "\n",
    "dataset = dataset.map(add_sim_score_features)"
   ]
  },
  {
   "cell_type": "code",
   "execution_count": 90,
   "metadata": {},
   "outputs": [
    {
     "name": "stdout",
     "output_type": "stream",
     "text": [
      "Model: mini_lm\n",
      "Average diff: 0.15014304435610004\n",
      "\n",
      "Model: pp_roberta\n",
      "Average diff: 0.16648173247389036\n",
      "\n",
      "Best model: mini_lm\n",
      "Best average diff: 0.15014304435610004\n"
     ]
    }
   ],
   "source": [
    "# average diff\n",
    "avg_diff = np.mean(dataset['diff'])\n",
    "print(f\"Average diff after fine-tuning: {avg_diff}\")"
   ]
  },
  {
   "cell_type": "code",
   "execution_count": 101,
   "metadata": {},
   "outputs": [
    {
     "name": "stdout",
     "output_type": "stream",
     "text": [
      "{\n",
      "  \"sentence1\": \"You may have to experiment and find what you like.\",\n",
      "  \"sentence2\": \"You have to find out what works for you.\",\n",
      "  \"similarity_score\": 1.0,\n",
      "  \"score_mini_lm\": 0.6091929078102112,\n",
      "  \"diff_mini_lm\": 0.3908070921897888\n",
      "}\n",
      "------------------------------\n",
      "\n",
      "{\n",
      "  \"sentence1\": \"In the first case, I think you don't need it.\",\n",
      "  \"sentence2\": \"So I don't think you need to put it on the cover.\",\n",
      "  \"similarity_score\": 0.20000000298023224,\n",
      "  \"score_mini_lm\": 0.5300893187522888,\n",
      "  \"diff_mini_lm\": 0.3300893157720566\n",
      "}\n",
      "------------------------------\n",
      "\n",
      "{\n",
      "  \"sentence1\": \"A man and a woman watch two dogs.\",\n",
      "  \"sentence2\": \"A man in a maroon bathing suit swings on a rope on a lake.\",\n",
      "  \"similarity_score\": 0.07999999821186066,\n",
      "  \"score_mini_lm\": -0.008783694356679916,\n",
      "  \"diff_mini_lm\": 0.08878369256854057\n",
      "}\n",
      "------------------------------\n",
      "\n"
     ]
    }
   ],
   "source": [
    "import json\n",
    "rnd = np.random.choice(len(dataset), 3)\n",
    "\n",
    "features = ['sentence1', 'sentence2', 'similarity_score', f'model_score', f'diff']\n",
    "\n",
    "for idx in rnd:\n",
    "    idx = int(idx)\n",
    "    sample = dataset[idx]\n",
    "    sample = {k: sample[k] for k in sample if k in features}\n",
    "    print(json.dumps(sample, indent=2))\n",
    "    print('---'*10)\n",
    "    print()"
   ]
  }
 ],
 "metadata": {
  "kernelspec": {
   "display_name": "venv",
   "language": "python",
   "name": "python3"
  },
  "language_info": {
   "codemirror_mode": {
    "name": "ipython",
    "version": 3
   },
   "file_extension": ".py",
   "mimetype": "text/x-python",
   "name": "python",
   "nbconvert_exporter": "python",
   "pygments_lexer": "ipython3",
   "version": "3.11.4"
  },
  "orig_nbformat": 4
 },
 "nbformat": 4,
 "nbformat_minor": 2
}
