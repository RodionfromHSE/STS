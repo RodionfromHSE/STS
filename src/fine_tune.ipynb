{
 "cells": [
  {
   "cell_type": "code",
   "execution_count": 25,
   "metadata": {},
   "outputs": [
    {
     "name": "stdout",
     "output_type": "stream",
     "text": [
      "The autoreload extension is already loaded. To reload it, use:\n",
      "  %reload_ext autoreload\n"
     ]
    }
   ],
   "source": [
    "%load_ext autoreload\n",
    "%autoreload 2"
   ]
  },
  {
   "cell_type": "code",
   "execution_count": 26,
   "metadata": {},
   "outputs": [
    {
     "name": "stdout",
     "output_type": "stream",
     "text": [
      "Root dir:  /Users/user010/Desktop/Programming/ML/STS\n"
     ]
    }
   ],
   "source": [
    "import os\n",
    "import sys\n",
    "\n",
    "root_dir = os.path.abspath('..')\n",
    "print(\"Root dir: \", root_dir)\n",
    "sys.path.append(root_dir)"
   ]
  },
  {
   "cell_type": "code",
   "execution_count": 27,
   "metadata": {},
   "outputs": [
    {
     "name": "stdout",
     "output_type": "stream",
     "text": [
      "{\n",
      "  \"model\": \"mini_lm\",\n",
      "  \"dataset\": \"stsb_train\",\n",
      "  \"val_dataset\": \"stsb_val\",\n",
      "  \"hf_model_repo\": \"under-tree/STS-model\"\n",
      "}\n"
     ]
    }
   ],
   "source": [
    "from utils.helpers import read_config, print_config\n",
    "import numpy as np\n",
    "\n",
    "glob_cfg = read_config(\"../config.yaml\")\n",
    "cfg = read_config(glob_cfg.configs.fine_tune)\n",
    "\n",
    "print_config(cfg)"
   ]
  },
  {
   "cell_type": "code",
   "execution_count": 28,
   "metadata": {},
   "outputs": [
    {
     "name": "stdout",
     "output_type": "stream",
     "text": [
      "Params: {'path': 'stsb_multi_mt', 'name': 'en', 'split': 'train'}\n"
     ]
    }
   ],
   "source": [
    "from datasets import load_dataset\n",
    "\n",
    "dataset_params = glob_cfg.datasets[cfg.dataset].hf_params\n",
    "print(\"Params:\", dataset_params)\n",
    "dataset = load_dataset(**dataset_params)"
   ]
  },
  {
   "cell_type": "code",
   "execution_count": 29,
   "metadata": {},
   "outputs": [
    {
     "name": "stderr",
     "output_type": "stream",
     "text": [
      "Map: 100%|██████████| 5749/5749 [00:00<00:00, 56888.66 examples/s]\n"
     ]
    }
   ],
   "source": [
    "# let's normalize score\n",
    "max_score = 5\n",
    "dataset = dataset.map(lambda x: {'similarity_score': x['similarity_score']/max_score})"
   ]
  },
  {
   "cell_type": "code",
   "execution_count": 30,
   "metadata": {},
   "outputs": [
    {
     "data": {
      "text/plain": [
       "Dataset({\n",
       "    features: ['sentence1', 'sentence2', 'similarity_score'],\n",
       "    num_rows: 5749\n",
       "})"
      ]
     },
     "execution_count": 30,
     "metadata": {},
     "output_type": "execute_result"
    }
   ],
   "source": [
    "dataset"
   ]
  },
  {
   "cell_type": "code",
   "execution_count": 31,
   "metadata": {},
   "outputs": [
    {
     "name": "stdout",
     "output_type": "stream",
     "text": [
      "Params: {'model_name_or_path': 'paraphrase-MiniLM-L6-v2'}\n"
     ]
    }
   ],
   "source": [
    "from sentence_transformers import SentenceTransformer, util, InputExample\n",
    "\n",
    "model_params = glob_cfg.models[cfg.model].st_params\n",
    "print(\"Params:\", model_params)\n",
    "model = SentenceTransformer(**model_params)"
   ]
  },
  {
   "cell_type": "code",
   "execution_count": 32,
   "metadata": {},
   "outputs": [],
   "source": [
    "\n",
    "def convert_to_input_example(example):\n",
    "    return InputExample(texts=[example[\"sentence1\"], example[\"sentence2\"]], label=example[\"similarity_score\"])\n",
    "\n",
    "train_dataset = [convert_to_input_example(example) for example in dataset]"
   ]
  },
  {
   "cell_type": "code",
   "execution_count": 33,
   "metadata": {},
   "outputs": [],
   "source": [
    "from sentence_transformers import SentencesDataset, losses\n",
    "from torch.utils.data import DataLoader\n",
    "\n",
    "train_dataset = SentencesDataset(train_dataset, model)\n",
    "train_dataloader = DataLoader(train_dataset, shuffle=True, batch_size=16)\n",
    "train_loss = losses.CosineSimilarityLoss(model)\n"
   ]
  },
  {
   "cell_type": "code",
   "execution_count": 34,
   "metadata": {},
   "outputs": [
    {
     "name": "stderr",
     "output_type": "stream",
     "text": [
      "Iteration: 100%|██████████| 360/360 [01:40<00:00,  3.60it/s]\n",
      "Iteration: 100%|██████████| 360/360 [01:45<00:00,  3.41it/s]\n",
      "Iteration: 100%|██████████| 360/360 [01:45<00:00,  3.43it/s]\n",
      "Iteration: 100%|██████████| 360/360 [01:45<00:00,  3.40it/s]\n",
      "Epoch: 100%|██████████| 4/4 [06:56<00:00, 104.18s/it]\n"
     ]
    }
   ],
   "source": [
    "model.fit(\n",
    "    train_objectives=[(train_dataloader, train_loss)],\n",
    "    epochs=4,\n",
    "    warmup_steps=100,\n",
    "    output_path=\"model-st\",\n",
    ")"
   ]
  },
  {
   "cell_type": "markdown",
   "metadata": {},
   "source": [
    "Evaluation"
   ]
  },
  {
   "cell_type": "code",
   "execution_count": 35,
   "metadata": {},
   "outputs": [
    {
     "name": "stdout",
     "output_type": "stream",
     "text": [
      "Params: {'path': 'stsb_multi_mt', 'name': 'en', 'split': 'test'}\n"
     ]
    }
   ],
   "source": [
    "val_dataset_params = glob_cfg.datasets[cfg.val_dataset].hf_params\n",
    "print(\"Params:\", val_dataset_params)\n",
    "val_dataset = load_dataset(**val_dataset_params)"
   ]
  },
  {
   "cell_type": "code",
   "execution_count": 36,
   "metadata": {},
   "outputs": [
    {
     "name": "stderr",
     "output_type": "stream",
     "text": [
      "Map: 100%|██████████| 1379/1379 [00:05<00:00, 247.81 examples/s]\n"
     ]
    },
    {
     "data": {
      "text/plain": [
       "Dataset({\n",
       "    features: ['sentence1', 'sentence2', 'similarity_score', 'emb1', 'emb2'],\n",
       "    num_rows: 1379\n",
       "})"
      ]
     },
     "execution_count": 36,
     "metadata": {},
     "output_type": "execute_result"
    }
   ],
   "source": [
    "# create emb1 and emb2 in val_dataset\n",
    "val_dataset = val_dataset.map(lambda x: \n",
    "                        {f'emb1': model.encode(x['sentence1'], convert_to_tensor=True), \n",
    "                         f'emb2': model.encode(x['sentence2'], convert_to_tensor=True)},\n",
    "                         batched=True, batch_size=len(val_dataset)\n",
    "                        )\n",
    "val_dataset"
   ]
  },
  {
   "cell_type": "code",
   "execution_count": 37,
   "metadata": {},
   "outputs": [
    {
     "name": "stderr",
     "output_type": "stream",
     "text": [
      "Map: 100%|██████████| 1379/1379 [00:00<00:00, 31647.94 examples/s]\n"
     ]
    }
   ],
   "source": [
    "# let's normalize score\n",
    "max_score = 5\n",
    "val_dataset = val_dataset.map(lambda x: {'similarity_score': x['similarity_score']/max_score})"
   ]
  },
  {
   "cell_type": "code",
   "execution_count": 38,
   "metadata": {},
   "outputs": [
    {
     "name": "stderr",
     "output_type": "stream",
     "text": [
      "Map: 100%|██████████| 1379/1379 [00:00<00:00, 3146.25 examples/s]\n"
     ]
    }
   ],
   "source": [
    "def get_sim_score(x):\n",
    "    return util.pytorch_cos_sim(x[f'emb1'], x[f'emb2']).item()\n",
    "\n",
    "def add_sim_score_features(x):\n",
    "    score = get_sim_score(x)\n",
    "    return {'model_score': score, 'diff': abs(score - x['similarity_score'])}\n",
    "\n",
    "val_dataset = val_dataset.map(add_sim_score_features)"
   ]
  },
  {
   "cell_type": "code",
   "execution_count": 39,
   "metadata": {},
   "outputs": [
    {
     "name": "stdout",
     "output_type": "stream",
     "text": [
      "Average diff after fine-tuning: 0.12818199023199175\n"
     ]
    }
   ],
   "source": [
    "# average diff\n",
    "avg_diff = np.mean(val_dataset['diff'])\n",
    "print(f\"Average diff after fine-tuning: {avg_diff}\")"
   ]
  },
  {
   "cell_type": "code",
   "execution_count": 51,
   "metadata": {},
   "outputs": [
    {
     "name": "stdout",
     "output_type": "stream",
     "text": [
      "{\n",
      "  \"sentence1\": \"Results from No. 2 U.S. soft drink maker PepsiCo Inc. (nyse: PEP - news - people) were likely to be in the spotlight.\",\n",
      "  \"sentence2\": \"Wall Street was also waiting for aluminum maker Alcoa Inc. (nyse: PEP - news - people) to report earnings after the close.\",\n",
      "  \"similarity_score\": 0.4000000059604645,\n",
      "  \"model_score\": 0.35285234451293945,\n",
      "  \"diff\": 0.047147661447525024\n",
      "}\n",
      "------------------------------\n",
      "\n",
      "{\n",
      "  \"sentence1\": \"Pope canonizes 2 Palestinians\",\n",
      "  \"sentence2\": \"Sweden recognizes Palestinian state\",\n",
      "  \"similarity_score\": 0.0,\n",
      "  \"model_score\": 0.23797515034675598,\n",
      "  \"diff\": 0.23797515034675598\n",
      "}\n",
      "------------------------------\n",
      "\n",
      "{\n",
      "  \"sentence1\": \"A person wearing a helmet rides a bike near a white structure.\",\n",
      "  \"sentence2\": \"A girl wearing black shorts and boots is standing next to a blue motorcycle.\",\n",
      "  \"similarity_score\": 0.24000000953674316,\n",
      "  \"model_score\": 0.129312664270401,\n",
      "  \"diff\": 0.11068734526634216\n",
      "}\n",
      "------------------------------\n",
      "\n"
     ]
    }
   ],
   "source": [
    "import json\n",
    "rnd = np.random.choice(len(val_dataset), 3)\n",
    "\n",
    "features = ['sentence1', 'sentence2', 'similarity_score', f'model_score', f'diff']\n",
    "\n",
    "for idx in rnd:\n",
    "    idx = int(idx)\n",
    "    sample = val_dataset[idx]\n",
    "    sample = {k: sample[k] for k in sample if k in features}\n",
    "    print(json.dumps(sample, indent=2))\n",
    "    print('---'*10)\n",
    "    print()"
   ]
  }
 ],
 "metadata": {
  "kernelspec": {
   "display_name": "venv",
   "language": "python",
   "name": "python3"
  },
  "language_info": {
   "codemirror_mode": {
    "name": "ipython",
    "version": 3
   },
   "file_extension": ".py",
   "mimetype": "text/x-python",
   "name": "python",
   "nbconvert_exporter": "python",
   "pygments_lexer": "ipython3",
   "version": "3.11.4"
  },
  "orig_nbformat": 4
 },
 "nbformat": 4,
 "nbformat_minor": 2
}
