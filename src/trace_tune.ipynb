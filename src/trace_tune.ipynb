{
 "cells": [
  {
   "cell_type": "code",
   "execution_count": 2,
   "metadata": {},
   "outputs": [],
   "source": [
    "%load_ext autoreload\n",
    "%autoreload 2"
   ]
  },
  {
   "cell_type": "code",
   "execution_count": 3,
   "metadata": {},
   "outputs": [
    {
     "name": "stdout",
     "output_type": "stream",
     "text": [
      "Root dir:  /Users/user010/Desktop/Programming/ML/STS\n"
     ]
    }
   ],
   "source": [
    "import os\n",
    "import sys\n",
    "\n",
    "root_dir = os.path.abspath('..')\n",
    "print(\"Root dir: \", root_dir)\n",
    "sys.path.append(root_dir)"
   ]
  },
  {
   "cell_type": "code",
   "execution_count": 4,
   "metadata": {},
   "outputs": [
    {
     "name": "stdout",
     "output_type": "stream",
     "text": [
      "{\n",
      "  \"model\": \"distilbert\",\n",
      "  \"dataset\": \"sts_traces\"\n",
      "}\n"
     ]
    }
   ],
   "source": [
    "from utils.helpers import read_config, print_config\n",
    "import numpy as np\n",
    "\n",
    "glob_cfg = read_config(\"../config.yaml\")\n",
    "cfg = read_config(glob_cfg.configs.trace_tune)\n",
    "\n",
    "print_config(cfg)"
   ]
  },
  {
   "cell_type": "code",
   "execution_count": 5,
   "metadata": {},
   "outputs": [
    {
     "name": "stdout",
     "output_type": "stream",
     "text": [
      "Params: {'path': 'under-tree/sts_traces'}\n"
     ]
    }
   ],
   "source": [
    "from datasets import load_dataset\n",
    "\n",
    "dataset_params = glob_cfg.datasets[cfg.dataset].hf_params\n",
    "print(\"Params:\", dataset_params)\n",
    "dataset = load_dataset(**dataset_params)"
   ]
  },
  {
   "cell_type": "code",
   "execution_count": 6,
   "metadata": {},
   "outputs": [
    {
     "data": {
      "text/plain": [
       "DatasetDict({\n",
       "    train: Dataset({\n",
       "        features: ['text1', 'text2', 'score'],\n",
       "        num_rows: 15000\n",
       "    })\n",
       "    val: Dataset({\n",
       "        features: ['text1', 'text2', 'score'],\n",
       "        num_rows: 3000\n",
       "    })\n",
       "})"
      ]
     },
     "execution_count": 6,
     "metadata": {},
     "output_type": "execute_result"
    }
   ],
   "source": [
    "dataset = dataset.shuffle(seed=42)\n",
    "dataset"
   ]
  },
  {
   "cell_type": "code",
   "execution_count": 8,
   "metadata": {},
   "outputs": [
    {
     "name": "stdout",
     "output_type": "stream",
     "text": [
      "Params: {'model': {'pretrained_model_name_or_path': 'distilbert-base-uncased'}, 'tokenizer': {'pretrained_model_name_or_path': 'distilbert-base-uncased'}}\n"
     ]
    }
   ],
   "source": [
    "from transformers import AutoTokenizer, AutoModel\n",
    "\n",
    "model_params = glob_cfg.models[cfg.model].hf_params\n",
    "print(\"Params:\", model_params)\n",
    "\n",
    "tokenizer = AutoTokenizer.from_pretrained(**model_params.tokenizer)\n",
    "model = AutoModel.from_pretrained(**model_params.model)"
   ]
  },
  {
   "cell_type": "code",
   "execution_count": 9,
   "metadata": {},
   "outputs": [
    {
     "name": "stdout",
     "output_type": "stream",
     "text": [
      "Cosine similarity: 0.8074988126754761\n",
      "Expected score: 0.6765367984771729\n"
     ]
    }
   ],
   "source": [
    "from utils.score_utils import get_score\n",
    "\n",
    "sample = dataset[\"train\"][0]\n",
    "score = get_score(model, tokenizer, sample)\n",
    "\n",
    "print(\"Cosine similarity:\", score)\n",
    "print(\"Expected score:\", sample[\"score\"])"
   ]
  },
  {
   "cell_type": "markdown",
   "metadata": {},
   "source": [
    "Evaluation"
   ]
  },
  {
   "cell_type": "code",
   "execution_count": 44,
   "metadata": {},
   "outputs": [
    {
     "data": {
      "application/vnd.jupyter.widget-view+json": {
       "model_id": "09f75e40de124fa789c1aba043e5157c",
       "version_major": 2,
       "version_minor": 0
      },
      "text/plain": [
       "Map:   0%|          | 0/15000 [00:00<?, ? examples/s]"
      ]
     },
     "metadata": {},
     "output_type": "display_data"
    },
    {
     "data": {
      "application/vnd.jupyter.widget-view+json": {
       "model_id": "f196c523a5cb43a2b20b365dcf3fc6a3",
       "version_major": 2,
       "version_minor": 0
      },
      "text/plain": [
       "Map:   0%|          | 0/3000 [00:00<?, ? examples/s]"
      ]
     },
     "metadata": {},
     "output_type": "display_data"
    }
   ],
   "source": [
    "def tokenize(sample):\n",
    "    tokens1 = tokenizer(sample[\"text1\"], padding=True, return_tensors=\"pt\")\n",
    "    tokens2 = tokenizer(sample[\"text2\"], padding=True, return_tensors=\"pt\")\n",
    "\n",
    "    # rename keys to avoid collision\n",
    "    for key in [\"input_ids\", \"attention_mask\"]:\n",
    "        tokens1[f\"{key}_1\"] = tokens1.pop(key)\n",
    "        tokens2[f\"{key}_2\"] = tokens2.pop(key)\n",
    "\n",
    "    tokens = {**tokens1, **tokens2}\n",
    "    return tokens\n",
    "\n",
    "dataset = dataset.map(tokenize, batched=True, batch_size=1000)"
   ]
  },
  {
   "cell_type": "code",
   "execution_count": 45,
   "metadata": {},
   "outputs": [
    {
     "data": {
      "text/plain": [
       "DatasetDict({\n",
       "    train: Dataset({\n",
       "        features: ['text1', 'text2', 'score', 'input_ids', 'attention_mask', 'input_ids_1', 'attention_mask_1', 'input_ids_2', 'attention_mask_2'],\n",
       "        num_rows: 15000\n",
       "    })\n",
       "    val: Dataset({\n",
       "        features: ['text1', 'text2', 'score', 'input_ids', 'attention_mask', 'input_ids_1', 'attention_mask_1', 'input_ids_2', 'attention_mask_2'],\n",
       "        num_rows: 3000\n",
       "    })\n",
       "})"
      ]
     },
     "execution_count": 45,
     "metadata": {},
     "output_type": "execute_result"
    }
   ],
   "source": [
    "dataset.set_format(type='torch', columns=['input_ids_1', 'attention_mask_1', 'input_ids_2', 'attention_mask_2', 'score'])\n",
    "dataset"
   ]
  },
  {
   "cell_type": "code",
   "execution_count": 47,
   "metadata": {},
   "outputs": [
    {
     "data": {
      "text/plain": [
       "DatasetDict({\n",
       "    train: Dataset({\n",
       "        features: ['text1', 'text2', 'score', 'input_ids', 'attention_mask', 'input_ids_1', 'attention_mask_1', 'input_ids_2', 'attention_mask_2'],\n",
       "        num_rows: 15000\n",
       "    })\n",
       "    val: Dataset({\n",
       "        features: ['text1', 'text2', 'score', 'input_ids', 'attention_mask', 'input_ids_1', 'attention_mask_1', 'input_ids_2', 'attention_mask_2'],\n",
       "        num_rows: 3000\n",
       "    })\n",
       "})"
      ]
     },
     "execution_count": 47,
     "metadata": {},
     "output_type": "execute_result"
    }
   ],
   "source": [
    "import torch\n",
    "import torch.nn as nn\n",
    "import torch.optim as optim\n",
    "from torch.utils.data import DataLoader\n",
    "from utils.sts_dataset import TextSimilarityDataset\n",
    "\n",
    "\n",
    "train_dataset = TextSimilarityDataset(dataset['train'])\n",
    "val_dataset = TextSimilarityDataset(dataset['val'])\n",
    "\n",
    "train_dataloader = DataLoader(train_dataset, batch_size=4, shuffle=True, num_workers=0)\n",
    "val_dataloader = DataLoader(val_dataset, batch_size=4, shuffle=False, num_workers=0)\n"
   ]
  },
  {
   "cell_type": "code",
   "execution_count": null,
   "metadata": {},
   "outputs": [],
   "source": [
    "loss_function = nn.MSELoss()\n",
    "\n",
    "optimizer = optim.Adam(model.parameters(), lr=cfg.train.lr)\n",
    "num_epochs = cfg.train.num_epochs\n"
   ]
  },
  {
   "cell_type": "code",
   "execution_count": null,
   "metadata": {},
   "outputs": [],
   "source": [
    "import torch.nn.functional as F\n",
    "train_losses = []\n",
    "val_losses = []\n",
    "\n",
    "\n",
    "for epoch in range(num_epochs):\n",
    "    model.train()\n",
    "    losses = []\n",
    "    for batch in train_dataloader:\n",
    "        (input_ids_1, attention_mask_1, input_ids_2, attention_mask_2), real_similarity_score = batch\n",
    "\n",
    "        \n",
    "        output1 = model(input_ids=input_ids_1, attention_mask=attention_mask_1)\n",
    "        output2 = model(input_ids=input_ids_2, attention_mask=attention_mask_2)\n",
    "        embeddings1 = output1.last_hidden_state\n",
    "        embeddings2 = output2.last_hidden_state\n",
    "\n",
    "        # Perform mean pooling on the embeddings\n",
    "        mean_pooled_embeddings1 = torch.mean(embeddings1, dim=1)\n",
    "        mean_pooled_embeddings2 = torch.mean(embeddings2, dim=1)\n",
    "\n",
    "        cosine_similarity = F.cosine_similarity(mean_pooled_embeddings1, mean_pooled_embeddings2)\n",
    "\n",
    "        loss = loss_function(cosine_similarity, real_similarity_score)\n",
    "        losses.append(loss.item())\n",
    "        \n",
    "\n",
    "        loss.backward()\n",
    "\n",
    "        optimizer.step()\n",
    "        optimizer.zero_grad()\n",
    "    train_losses.append(np.mean(losses))\n",
    "    \n",
    "    model.eval()\n",
    "    losses = []\n",
    "    with torch.no_grad():\n",
    "        for batch in val_dataloader:\n",
    "            (input_ids_1, attention_mask_1, input_ids_2, attention_mask_2), real_similarity_score = batch\n",
    "\n",
    "        \n",
    "            output1 = model(input_ids=input_ids_1, attention_mask=attention_mask_1)\n",
    "            output2 = model(input_ids=input_ids_2, attention_mask=attention_mask_2)\n",
    "            embeddings1 = output1.last_hidden_state\n",
    "            embeddings2 = output2.last_hidden_state\n",
    "\n",
    "            # Perform mean pooling on the embeddings\n",
    "            mean_pooled_embeddings1 = torch.mean(embeddings1, dim=1)\n",
    "            mean_pooled_embeddings2 = torch.mean(embeddings2, dim=1)\n",
    "\n",
    "            cosine_similarity = F.cosine_similarity(mean_pooled_embeddings1, mean_pooled_embeddings2)\n",
    "\n",
    "            loss = loss_function(cosine_similarity, real_similarity_score)\n",
    "            losses.append(loss.item())\n",
    "    val_losses.append(np.mean(losses))"
   ]
  },
  {
   "cell_type": "code",
   "execution_count": null,
   "metadata": {},
   "outputs": [],
   "source": [
    "import matplotlib.pyplot as plt\n",
    "import seaborn as sns\n",
    "\n",
    "%matplotlib inline\n",
    "\n",
    "sns.set_style(\"darkgrid\")\n",
    "\n",
    "plt.plot(train_losses, label='train')\n",
    "plt.plot(val_losses, label='val')\n",
    "plt.legend()"
   ]
  }
 ],
 "metadata": {
  "kernelspec": {
   "display_name": "venv",
   "language": "python",
   "name": "python3"
  },
  "language_info": {
   "codemirror_mode": {
    "name": "ipython",
    "version": 3
   },
   "file_extension": ".py",
   "mimetype": "text/x-python",
   "name": "python",
   "nbconvert_exporter": "python",
   "pygments_lexer": "ipython3",
   "version": "3.11.4"
  },
  "orig_nbformat": 4
 },
 "nbformat": 4,
 "nbformat_minor": 2
}
