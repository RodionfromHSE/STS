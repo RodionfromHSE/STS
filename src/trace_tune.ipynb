{
 "cells": [
  {
   "cell_type": "code",
   "execution_count": 2,
   "metadata": {},
   "outputs": [],
   "source": [
    "%load_ext autoreload\n",
    "%autoreload 2"
   ]
  },
  {
   "cell_type": "code",
   "execution_count": 3,
   "metadata": {},
   "outputs": [
    {
     "name": "stdout",
     "output_type": "stream",
     "text": [
      "Root dir:  /Users/user010/Desktop/Programming/ML/STS\n"
     ]
    }
   ],
   "source": [
    "import os\n",
    "import sys\n",
    "\n",
    "root_dir = os.path.abspath('..')\n",
    "print(\"Root dir: \", root_dir)\n",
    "sys.path.append(root_dir)"
   ]
  },
  {
   "cell_type": "code",
   "execution_count": 4,
   "metadata": {},
   "outputs": [
    {
     "name": "stdout",
     "output_type": "stream",
     "text": [
      "{\n",
      "  \"model\": \"distilbert\",\n",
      "  \"dataset\": \"sts_traces\"\n",
      "}\n"
     ]
    }
   ],
   "source": [
    "from utils.helpers import read_config, print_config\n",
    "import numpy as np\n",
    "\n",
    "glob_cfg = read_config(\"../config.yaml\")\n",
    "cfg = read_config(glob_cfg.configs.trace_tune)\n",
    "\n",
    "print_config(cfg)"
   ]
  },
  {
   "cell_type": "code",
   "execution_count": 5,
   "metadata": {},
   "outputs": [
    {
     "name": "stdout",
     "output_type": "stream",
     "text": [
      "Params: {'path': 'under-tree/sts_traces'}\n"
     ]
    }
   ],
   "source": [
    "from datasets import load_dataset\n",
    "\n",
    "dataset_params = glob_cfg.datasets[cfg.dataset].hf_params\n",
    "print(\"Params:\", dataset_params)\n",
    "dataset = load_dataset(**dataset_params)"
   ]
  },
  {
   "cell_type": "code",
   "execution_count": 6,
   "metadata": {},
   "outputs": [
    {
     "data": {
      "text/plain": [
       "DatasetDict({\n",
       "    train: Dataset({\n",
       "        features: ['text1', 'text2', 'score'],\n",
       "        num_rows: 15000\n",
       "    })\n",
       "    val: Dataset({\n",
       "        features: ['text1', 'text2', 'score'],\n",
       "        num_rows: 3000\n",
       "    })\n",
       "})"
      ]
     },
     "execution_count": 6,
     "metadata": {},
     "output_type": "execute_result"
    }
   ],
   "source": [
    "# dataset info\n",
    "dataset"
   ]
  },
  {
   "cell_type": "code",
   "execution_count": 7,
   "metadata": {},
   "outputs": [],
   "source": [
    "# shuffle\n",
    "dataset = dataset.shuffle(seed=42)"
   ]
  },
  {
   "cell_type": "code",
   "execution_count": 8,
   "metadata": {},
   "outputs": [
    {
     "name": "stdout",
     "output_type": "stream",
     "text": [
      "Params: {'model': {'pretrained_model_name_or_path': 'distilbert-base-uncased'}, 'tokenizer': {'pretrained_model_name_or_path': 'distilbert-base-uncased'}}\n"
     ]
    }
   ],
   "source": [
    "# automodel\n",
    "from transformers import AutoTokenizer, AutoModel\n",
    "\n",
    "model_params = glob_cfg.models[cfg.model].hf_params\n",
    "print(\"Params:\", model_params)\n",
    "\n",
    "tokenizer = AutoTokenizer.from_pretrained(**model_params.tokenizer)\n",
    "model = AutoModel.from_pretrained(**model_params.model)"
   ]
  },
  {
   "cell_type": "code",
   "execution_count": 9,
   "metadata": {},
   "outputs": [
    {
     "name": "stdout",
     "output_type": "stream",
     "text": [
      "Cosine similarity: 0.8074988126754761\n",
      "Expected score: 0.6765367984771729\n"
     ]
    }
   ],
   "source": [
    "# cosine similarity\n",
    "from torch.nn.functional import cosine_similarity\n",
    "import torch\n",
    "\n",
    "# get embeddings\n",
    "def get_embeddings(model, tokenizer, sentences, no_grad=True):\n",
    "    # tokenize\n",
    "    tokenized = tokenizer(sentences, padding=True, truncation=True, return_tensors=\"pt\")\n",
    "\n",
    "    # get embeddings\n",
    "    with torch.set_grad_enabled(not no_grad):\n",
    "        embeddings = model(**tokenized).last_hidden_state.mean(dim=1)\n",
    "    return embeddings\n",
    "\n",
    "def get_score(model, tokjenizer, sample):\n",
    "    emb_a, emb_b = get_embeddings(model, tokenizer, [sample[\"text1\"], sample[\"text2\"]])\n",
    "    return cosine_similarity(emb_a.unsqueeze(0), emb_b.unsqueeze(0)).item()\n",
    "sample = dataset[\"train\"][0]\n",
    "score = get_score(model, tokenizer, sample)\n",
    "\n",
    "print(\"Cosine similarity:\", score)\n",
    "print(\"Expected score:\", sample[\"score\"])"
   ]
  },
  {
   "cell_type": "code",
   "execution_count": 13,
   "metadata": {},
   "outputs": [],
   "source": [
    "# diff for val\n",
    "emb_size = 50\n",
    "texts = dataset[\"val\"]\n",
    "diffs = []\n",
    "for i in range(len(texts) // emb_size + 1):\n",
    "    emb_a = get_embeddings(model, tokenizer, texts[\"text1\"][i * emb_size: (i + 1) * emb_size], no_grad=True)\n",
    "    emb_b = get_embeddings(model, tokenizer, texts[\"text2\"][i * emb_size: (i + 1) * emb_size], no_grad=True)\n",
    "    diff = cosine_similarity(emb_a, emb_b)\n",
    "    diffs.append(diff)"
   ]
  },
  {
   "cell_type": "code",
   "execution_count": null,
   "metadata": {},
   "outputs": [],
   "source": [
    "print(\"Mean diff:\", ds_diff[\"val\"][\"diff\"].mean())"
   ]
  },
  {
   "cell_type": "code",
   "execution_count": 44,
   "metadata": {},
   "outputs": [
    {
     "data": {
      "application/vnd.jupyter.widget-view+json": {
       "model_id": "09f75e40de124fa789c1aba043e5157c",
       "version_major": 2,
       "version_minor": 0
      },
      "text/plain": [
       "Map:   0%|          | 0/15000 [00:00<?, ? examples/s]"
      ]
     },
     "metadata": {},
     "output_type": "display_data"
    },
    {
     "data": {
      "application/vnd.jupyter.widget-view+json": {
       "model_id": "f196c523a5cb43a2b20b365dcf3fc6a3",
       "version_major": 2,
       "version_minor": 0
      },
      "text/plain": [
       "Map:   0%|          | 0/3000 [00:00<?, ? examples/s]"
      ]
     },
     "metadata": {},
     "output_type": "display_data"
    }
   ],
   "source": [
    "# tokenize\n",
    "def tokenize(sample):\n",
    "    tokens1 = tokenizer(sample[\"text1\"], padding=True, return_tensors=\"pt\")\n",
    "    tokens2 = tokenizer(sample[\"text2\"], padding=True, return_tensors=\"pt\")\n",
    "\n",
    "    # rename keys to avoid collision\n",
    "    for key in [\"input_ids\", \"attention_mask\"]:\n",
    "        tokens1[f\"{key}_1\"] = tokens1.pop(key)\n",
    "        tokens2[f\"{key}_2\"] = tokens2.pop(key)\n",
    "    # merge\n",
    "    tokens = {**tokens1, **tokens2}\n",
    "    return tokens\n",
    "\n",
    "dataset = dataset.map(tokenize, batched=True, batch_size=1000)"
   ]
  },
  {
   "cell_type": "code",
   "execution_count": 45,
   "metadata": {},
   "outputs": [
    {
     "data": {
      "text/plain": [
       "DatasetDict({\n",
       "    train: Dataset({\n",
       "        features: ['text1', 'text2', 'score', 'input_ids', 'attention_mask', 'input_ids_1', 'attention_mask_1', 'input_ids_2', 'attention_mask_2'],\n",
       "        num_rows: 15000\n",
       "    })\n",
       "    val: Dataset({\n",
       "        features: ['text1', 'text2', 'score', 'input_ids', 'attention_mask', 'input_ids_1', 'attention_mask_1', 'input_ids_2', 'attention_mask_2'],\n",
       "        num_rows: 3000\n",
       "    })\n",
       "})"
      ]
     },
     "execution_count": 45,
     "metadata": {},
     "output_type": "execute_result"
    }
   ],
   "source": [
    "dataset"
   ]
  },
  {
   "cell_type": "code",
   "execution_count": 46,
   "metadata": {},
   "outputs": [],
   "source": [
    "# format\n",
    "dataset.set_format(type='torch', columns=['input_ids_1', 'attention_mask_1', 'input_ids_2', 'attention_mask_2', 'score'])"
   ]
  },
  {
   "cell_type": "code",
   "execution_count": 47,
   "metadata": {},
   "outputs": [
    {
     "data": {
      "text/plain": [
       "DatasetDict({\n",
       "    train: Dataset({\n",
       "        features: ['text1', 'text2', 'score', 'input_ids', 'attention_mask', 'input_ids_1', 'attention_mask_1', 'input_ids_2', 'attention_mask_2'],\n",
       "        num_rows: 15000\n",
       "    })\n",
       "    val: Dataset({\n",
       "        features: ['text1', 'text2', 'score', 'input_ids', 'attention_mask', 'input_ids_1', 'attention_mask_1', 'input_ids_2', 'attention_mask_2'],\n",
       "        num_rows: 3000\n",
       "    })\n",
       "})"
      ]
     },
     "execution_count": 47,
     "metadata": {},
     "output_type": "execute_result"
    }
   ],
   "source": [
    "import torch\n",
    "import torch.nn as nn\n",
    "import torch.optim as optim\n",
    "from torch.utils.data import Dataset, DataLoader\n",
    "from transformers import AutoTokenizer, AutoModel\n",
    "import torch.nn.functional as F\n",
    "\n",
    "# Step 1: Create a custom dataset class\n",
    "class TextSimilarityDataset(Dataset):\n",
    "    def __init__(self, dataset):\n",
    "        self.dataset = dataset\n",
    "\n",
    "    def __len__(self):\n",
    "        return len(self.dataset)\n",
    "\n",
    "    def __getitem__(self, idx):\n",
    "        input_ids_1 = self.dataset[idx]['input_ids_1']\n",
    "        attention_mask_1 = self.dataset[idx]['attention_mask_1']\n",
    "        input_ids_2 = self.dataset[idx]['input_ids_2']\n",
    "        attention_mask_2 = self.dataset[idx]['attention_mask_2']\n",
    "        score = self.dataset[idx]['score']\n",
    "        return (input_ids_1, attention_mask_1, input_ids_2, attention_mask_2), score\n",
    "\n",
    "# Step 2: Prepare your dataset\n",
    "train_dataset = TextSimilarityDataset(dataset['train'])\n",
    "val_dataset = TextSimilarityDataset(dataset['val'])\n",
    "\n",
    "# Step 3: Create a DataLoader\n",
    "train_dataloader = DataLoader(train_dataset, batch_size=4, shuffle=True, num_workers=0)\n",
    "val_dataloader = DataLoader(val_dataset, batch_size=4, shuffle=False, num_workers=0)\n"
   ]
  },
  {
   "cell_type": "code",
   "execution_count": null,
   "metadata": {},
   "outputs": [],
   "source": [
    "# Define the custom loss function (e.g., Mean Squared Error)\n",
    "loss_function = nn.MSELoss()\n",
    "\n",
    "# Initialize the optimizer (e.g., Adam)\n",
    "optimizer = optim.Adam(model.parameters(), lr=0.001)\n",
    "\n",
    "# Step 4: Train the model\n",
    "num_epochs = 10\n"
   ]
  },
  {
   "cell_type": "code",
   "execution_count": null,
   "metadata": {},
   "outputs": [],
   "source": [
    "train_losses = []\n",
    "val_losses = []\n",
    "\n",
    "\n",
    "for epoch in range(num_epochs):\n",
    "    model.train()\n",
    "    losses = []\n",
    "    for batch in train_dataloader:\n",
    "        (input_ids_1, attention_mask_1, input_ids_2, attention_mask_2), real_similarity_score = batch\n",
    "\n",
    "        \n",
    "        output1 = model(input_ids=input_ids_1, attention_mask=attention_mask_1)\n",
    "        output2 = model(input_ids=input_ids_2, attention_mask=attention_mask_2)\n",
    "        embeddings1 = output1.last_hidden_state\n",
    "        embeddings2 = output2.last_hidden_state\n",
    "\n",
    "        # Perform mean pooling on the embeddings\n",
    "        mean_pooled_embeddings1 = torch.mean(embeddings1, dim=1)\n",
    "        mean_pooled_embeddings2 = torch.mean(embeddings2, dim=1)\n",
    "\n",
    "        # Calculate cosine similarity between the embeddings\n",
    "        cosine_similarity = F.cosine_similarity(mean_pooled_embeddings1, mean_pooled_embeddings2)\n",
    "\n",
    "        # Compute the loss\n",
    "        loss = loss_function(cosine_similarity, real_similarity_score)\n",
    "        losses.append(loss.item())\n",
    "        \n",
    "\n",
    "        # Perform backpropagation\n",
    "        loss.backward()\n",
    "\n",
    "        # Update the model parameters\n",
    "        optimizer.step()\n",
    "        optimizer.zero_grad()\n",
    "    train_losses.append(np.mean(losses))\n",
    "    \n",
    "    model.eval()\n",
    "    losses = []\n",
    "    with torch.no_grad():\n",
    "        for batch in val_dataloader:\n",
    "            (input_ids_1, attention_mask_1, input_ids_2, attention_mask_2), real_similarity_score = batch\n",
    "\n",
    "        \n",
    "            output1 = model(input_ids=input_ids_1, attention_mask=attention_mask_1)\n",
    "            output2 = model(input_ids=input_ids_2, attention_mask=attention_mask_2)\n",
    "            embeddings1 = output1.last_hidden_state\n",
    "            embeddings2 = output2.last_hidden_state\n",
    "\n",
    "            # Perform mean pooling on the embeddings\n",
    "            mean_pooled_embeddings1 = torch.mean(embeddings1, dim=1)\n",
    "            mean_pooled_embeddings2 = torch.mean(embeddings2, dim=1)\n",
    "\n",
    "            # Calculate cosine similarity between the embeddings\n",
    "            cosine_similarity = F.cosine_similarity(mean_pooled_embeddings1, mean_pooled_embeddings2)\n",
    "\n",
    "            # Compute the loss\n",
    "            loss = loss_function(cosine_similarity, real_similarity_score)\n",
    "            losses.append(loss.item())\n",
    "    val_losses.append(np.mean(losses))\n",
    "\n",
    "\n",
    "    \n"
   ]
  },
  {
   "cell_type": "code",
   "execution_count": 43,
   "metadata": {},
   "outputs": [],
   "source": [
    "# Average loss\n",
    "print(\"Average loss:\", loss.item())"
   ]
  },
  {
   "cell_type": "code",
   "execution_count": null,
   "metadata": {},
   "outputs": [],
   "source": [
    "num_epochs = cfg.num_epochs\n",
    "lr = cfg.lr\n",
    "optimizer = torch.optim.Adam(model.parameters(), lr=lr)\n",
    "loss_func = torch.nn.MSELoss()"
   ]
  },
  {
   "cell_type": "code",
   "execution_count": null,
   "metadata": {},
   "outputs": [],
   "source": [
    "\n",
    "\n",
    "for epoch in range(num_epochs):\n",
    "    for input_pair, real_similarity_score in dataset:\n",
    "        # Compute embeddings for each text in the input pair\n",
    "        \n",
    "\n",
    "        # Calculate cosine similarity between the embeddings\n",
    "        cosine_similarity = F.cosine_similarity(embedding1.unsqueeze(0), embedding2.unsqueeze(0))\n",
    "\n",
    "        # Compute the loss\n",
    "        loss = loss_function(cosine_similarity, real_similarity_score)\n",
    "\n",
    "        # Zero the gradients\n",
    "        optimizer.zero_grad()\n",
    "\n",
    "        # Perform backpropagation\n",
    "        loss.backward()\n",
    "\n",
    "        # Update the model parameters\n",
    "        optimizer.step()"
   ]
  },
  {
   "cell_type": "code",
   "execution_count": 34,
   "metadata": {},
   "outputs": [
    {
     "name": "stderr",
     "output_type": "stream",
     "text": [
      "Iteration: 100%|██████████| 360/360 [01:40<00:00,  3.60it/s]\n",
      "Iteration: 100%|██████████| 360/360 [01:45<00:00,  3.41it/s]\n",
      "Iteration: 100%|██████████| 360/360 [01:45<00:00,  3.43it/s]\n",
      "Iteration: 100%|██████████| 360/360 [01:45<00:00,  3.40it/s]\n",
      "Epoch: 100%|██████████| 4/4 [06:56<00:00, 104.18s/it]\n"
     ]
    }
   ],
   "source": [
    "# train\n",
    "epochs = 3\n",
    "from tqdm import tqdm(epochs):\n",
    "    for batch in tqdm(train_dataloader, desc=\"Epoch\"):\n",
    "        # get embeddings\n",
    "        "
   ]
  },
  {
   "cell_type": "markdown",
   "metadata": {},
   "source": [
    "Evaluation"
   ]
  },
  {
   "cell_type": "code",
   "execution_count": 35,
   "metadata": {},
   "outputs": [
    {
     "name": "stdout",
     "output_type": "stream",
     "text": [
      "Params: {'path': 'stsb_multi_mt', 'name': 'en', 'split': 'test'}\n"
     ]
    }
   ],
   "source": [
    "val_dataset_params = glob_cfg.datasets[cfg.val_dataset].hf_params\n",
    "print(\"Params:\", val_dataset_params)\n",
    "val_dataset = load_dataset(**val_dataset_params)"
   ]
  },
  {
   "cell_type": "code",
   "execution_count": 36,
   "metadata": {},
   "outputs": [
    {
     "name": "stderr",
     "output_type": "stream",
     "text": [
      "Map: 100%|██████████| 1379/1379 [00:05<00:00, 247.81 examples/s]\n"
     ]
    },
    {
     "data": {
      "text/plain": [
       "Dataset({\n",
       "    features: ['sentence1', 'sentence2', 'similarity_score', 'emb1', 'emb2'],\n",
       "    num_rows: 1379\n",
       "})"
      ]
     },
     "execution_count": 36,
     "metadata": {},
     "output_type": "execute_result"
    }
   ],
   "source": [
    "# create emb1 and emb2 in val_dataset\n",
    "val_dataset = val_dataset.map(lambda x: \n",
    "                        {f'emb1': model.encode(x['sentence1'], convert_to_tensor=True), \n",
    "                         f'emb2': model.encode(x['sentence2'], convert_to_tensor=True)},\n",
    "                         batched=True, batch_size=len(val_dataset)\n",
    "                        )\n",
    "val_dataset"
   ]
  },
  {
   "cell_type": "code",
   "execution_count": 37,
   "metadata": {},
   "outputs": [
    {
     "name": "stderr",
     "output_type": "stream",
     "text": [
      "Map: 100%|██████████| 1379/1379 [00:00<00:00, 31647.94 examples/s]\n"
     ]
    }
   ],
   "source": [
    "# let's normalize score\n",
    "max_score = 5\n",
    "val_dataset = val_dataset.map(lambda x: {'similarity_score': x['similarity_score']/max_score})"
   ]
  },
  {
   "cell_type": "code",
   "execution_count": 38,
   "metadata": {},
   "outputs": [
    {
     "name": "stderr",
     "output_type": "stream",
     "text": [
      "Map: 100%|██████████| 1379/1379 [00:00<00:00, 3146.25 examples/s]\n"
     ]
    }
   ],
   "source": [
    "def get_sim_score(x):\n",
    "    return util.pytorch_cos_sim(x[f'emb1'], x[f'emb2']).item()\n",
    "\n",
    "def add_sim_score_features(x):\n",
    "    score = get_sim_score(x)\n",
    "    return {'model_score': score, 'diff': abs(score - x['similarity_score'])}\n",
    "\n",
    "val_dataset = val_dataset.map(add_sim_score_features)"
   ]
  },
  {
   "cell_type": "code",
   "execution_count": 39,
   "metadata": {},
   "outputs": [
    {
     "name": "stdout",
     "output_type": "stream",
     "text": [
      "Average diff after fine-tuning: 0.12818199023199175\n"
     ]
    }
   ],
   "source": [
    "# average diff\n",
    "avg_diff = np.mean(val_dataset['diff'])\n",
    "print(f\"Average diff after fine-tuning: {avg_diff}\")"
   ]
  },
  {
   "cell_type": "code",
   "execution_count": 51,
   "metadata": {},
   "outputs": [
    {
     "name": "stdout",
     "output_type": "stream",
     "text": [
      "{\n",
      "  \"sentence1\": \"Results from No. 2 U.S. soft drink maker PepsiCo Inc. (nyse: PEP - news - people) were likely to be in the spotlight.\",\n",
      "  \"sentence2\": \"Wall Street was also waiting for aluminum maker Alcoa Inc. (nyse: PEP - news - people) to report earnings after the close.\",\n",
      "  \"similarity_score\": 0.4000000059604645,\n",
      "  \"model_score\": 0.35285234451293945,\n",
      "  \"diff\": 0.047147661447525024\n",
      "}\n",
      "------------------------------\n",
      "\n",
      "{\n",
      "  \"sentence1\": \"Pope canonizes 2 Palestinians\",\n",
      "  \"sentence2\": \"Sweden recognizes Palestinian state\",\n",
      "  \"similarity_score\": 0.0,\n",
      "  \"model_score\": 0.23797515034675598,\n",
      "  \"diff\": 0.23797515034675598\n",
      "}\n",
      "------------------------------\n",
      "\n",
      "{\n",
      "  \"sentence1\": \"A person wearing a helmet rides a bike near a white structure.\",\n",
      "  \"sentence2\": \"A girl wearing black shorts and boots is standing next to a blue motorcycle.\",\n",
      "  \"similarity_score\": 0.24000000953674316,\n",
      "  \"model_score\": 0.129312664270401,\n",
      "  \"diff\": 0.11068734526634216\n",
      "}\n",
      "------------------------------\n",
      "\n"
     ]
    }
   ],
   "source": [
    "import json\n",
    "rnd = np.random.choice(len(val_dataset), 3)\n",
    "\n",
    "features = ['sentence1', 'sentence2', 'similarity_score', f'model_score', f'diff']\n",
    "\n",
    "for idx in rnd:\n",
    "    idx = int(idx)\n",
    "    sample = val_dataset[idx]\n",
    "    sample = {k: sample[k] for k in sample if k in features}\n",
    "    print(json.dumps(sample, indent=2))\n",
    "    print('---'*10)\n",
    "    print()"
   ]
  }
 ],
 "metadata": {
  "kernelspec": {
   "display_name": "venv",
   "language": "python",
   "name": "python3"
  },
  "language_info": {
   "codemirror_mode": {
    "name": "ipython",
    "version": 3
   },
   "file_extension": ".py",
   "mimetype": "text/x-python",
   "name": "python",
   "nbconvert_exporter": "python",
   "pygments_lexer": "ipython3",
   "version": "3.11.4"
  },
  "orig_nbformat": 4
 },
 "nbformat": 4,
 "nbformat_minor": 2
}
